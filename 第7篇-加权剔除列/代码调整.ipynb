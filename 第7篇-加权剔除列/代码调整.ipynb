{
 "cells": [
  {
   "cell_type": "code",
   "execution_count": 3,
   "metadata": {
    "collapsed": true
   },
   "outputs": [],
   "source": [
    "import sys\n",
    "import os\n",
    "import numpy as np\n",
    "import pandas as pd\n",
    "sys.path.append('/Users/yuxiangyu/Documents/毕业论文-20171126/毕业论文code/')\n",
    "from DataAnalysis import DataAnalysis\n",
    "from sklearn import neighbors as knn\n",
    "# 基本处理\n",
    "stat = DataAnalysis()\n",
    "now_time = stat.get_time()"
   ]
  },
  {
   "cell_type": "code",
   "execution_count": 4,
   "metadata": {
    "collapsed": true
   },
   "outputs": [],
   "source": [
    "# 获取数据集路径\n",
    "train_data_path_list = stat.datasets"
   ]
  },
  {
   "cell_type": "code",
   "execution_count": 5,
   "metadata": {
    "collapsed": true
   },
   "outputs": [],
   "source": [
    "save_columns_name_list = ['k_value', 'KNN', 'delKNN', 'del_num', 'pre_del_num','del_attr', 'iter_cdf_mean', 'iter_std', 'data']"
   ]
  },
  {
   "cell_type": "code",
   "execution_count": 6,
   "metadata": {
    "collapsed": true
   },
   "outputs": [],
   "source": [
    "per_num = 0"
   ]
  },
  {
   "cell_type": "code",
   "execution_count": 38,
   "metadata": {
    "collapsed": false
   },
   "outputs": [
    {
     "data": {
      "text/plain": [
       "['/Users/yuxiangyu/Documents/论文材料/实验室/Iris/iris.csv',\n",
       " '/Users/yuxiangyu/Documents/论文材料/实验室/Winequality/new-winequality-white.txt',\n",
       " '/Users/yuxiangyu/Documents/论文材料/实验室/Winequality/new-winequality-red.txt',\n",
       " '/Users/yuxiangyu/Documents/论文材料/实验室/Glass/new1-new-glass.txt',\n",
       " '/Users/yuxiangyu/Documents/论文材料/实验室/seeds/seeds_dataset.txt',\n",
       " '/Users/yuxiangyu/Documents/论文材料/实验室/breast_cancer/new-breast-cancer-wisconsin.txt',\n",
       " '/Users/yuxiangyu/Documents/论文材料/实验室/Wine/new-win.txt',\n",
       " '/Users/yuxiangyu/Documents/论文材料/实验室/balance_scale/new-balance-scale.txt',\n",
       " '/Users/yuxiangyu/Documents/论文材料/实验室/segmentation/new-segmentation.txt']"
      ]
     },
     "execution_count": 38,
     "metadata": {},
     "output_type": "execute_result"
    }
   ],
   "source": [
    "train_data_path_list"
   ]
  },
  {
   "cell_type": "markdown",
   "metadata": {},
   "source": [
    "## 基本描述统计"
   ]
  },
  {
   "cell_type": "code",
   "execution_count": 58,
   "metadata": {
    "collapsed": true
   },
   "outputs": [],
   "source": [
    "tmp_data_df = stat.open_csv('/Users/yuxiangyu/Documents/论文材料/实验室/Winequality/new-winequality-red.txt')"
   ]
  },
  {
   "cell_type": "code",
   "execution_count": 59,
   "metadata": {
    "collapsed": false
   },
   "outputs": [
    {
     "data": {
      "text/plain": [
       "{3, 4, 5, 6, 7, 8}"
      ]
     },
     "execution_count": 59,
     "metadata": {},
     "output_type": "execute_result"
    }
   ],
   "source": [
    "set(tmp_data_df.label)"
   ]
  },
  {
   "cell_type": "code",
   "execution_count": 60,
   "metadata": {
    "collapsed": false
   },
   "outputs": [
    {
     "data": {
      "text/plain": [
       "(1599, 12)"
      ]
     },
     "execution_count": 60,
     "metadata": {},
     "output_type": "execute_result"
    }
   ],
   "source": [
    "tmp_data_df.shape"
   ]
  },
  {
   "cell_type": "code",
   "execution_count": 61,
   "metadata": {
    "collapsed": false
   },
   "outputs": [
    {
     "data": {
      "text/plain": [
       "(1279.2, 319.79999999999995)"
      ]
     },
     "execution_count": 61,
     "metadata": {},
     "output_type": "execute_result"
    }
   ],
   "source": [
    "tmp_data_df.shape[0] * 0.8, tmp_data_df.shape[0] - tmp_data_df.shape[0] * 0.8"
   ]
  },
  {
   "cell_type": "code",
   "execution_count": null,
   "metadata": {
    "collapsed": true
   },
   "outputs": [],
   "source": []
  },
  {
   "cell_type": "code",
   "execution_count": 7,
   "metadata": {
    "collapsed": false
   },
   "outputs": [
    {
     "name": "stdout",
     "output_type": "stream",
     "text": [
      "iris\n"
     ]
    },
    {
     "name": "stderr",
     "output_type": "stream",
     "text": [
      "/usr/local/lib/python3.6/site-packages/sklearn/cross_validation.py:44: DeprecationWarning: This module was deprecated in version 0.18 in favor of the model_selection module into which all the refactored classes and functions are moved. Also note that the interface of the new CV iterators are different from that of this module. This module will be removed in 0.20.\n",
      "  \"This module will be removed in 0.20.\", DeprecationWarning)\n"
     ]
    }
   ],
   "source": [
    "for ix, tmp_data_path in enumerate(train_data_path_list[per_num : per_num + 1]):\n",
    "    last_result_df = pd.DataFrame(columns=save_columns_name_list)\n",
    "    file_name = tmp_data_path.split('/')[-1].split('.')[0]\n",
    "    print(file_name)\n",
    "    # 读取数据\n",
    "    data_df = stat.open_csv(tmp_data_path)\n",
    "\n",
    "    # 行列数量\n",
    "    row_len, col_len = data_df.shape\n",
    "    # 生成相等权重的数组\n",
    "    orginal_weight_array = np.array(list([1]* (col_len - 1)))\n",
    "    orginal_weight_array = orginal_weight_array / sum(orginal_weight_array) \n",
    "    # 获取训练集和测试集\n",
    "    train_data, test_data = stat.get_train_test(data_df)\n",
    "\n",
    "    # 传统 KNN 算法\n",
    "    train_array = train_data.drop('label', axis=1)\n",
    "    test_array = test_data.drop('label', axis=1)\n",
    "    for k_value in range(1, 21):\n",
    "        clf = knn.KNeighborsClassifier(n_neighbors = k_value, weights = 'uniform')\n",
    "        clf.fit(train_data.drop('label', axis = 1), train_data['label'])\n",
    "        # 预测结果\n",
    "        predict_label_array = clf.predict(test_array)\n",
    "        classic_knn_result = stat.get_accuracy_score(predict_label_array, test_data['label'])\n",
    "#         print('k值:{kvalue}, 分类准确率:{re:.2f} %'.format(kvalue = k_value,re = classic_knn_result * 100)) \n",
    "        last_result_df.loc['{data}:{k}'.format(data = file_name, k = k_value), 'k_value'] = k_value\n",
    "        last_result_df.loc['{data}:{k}'.format(data = file_name, k = k_value), 'KNN'] = round(classic_knn_result * 100,2)\n",
    "        last_result_df.loc['{data}:{k}'.format(data = file_name, k = k_value), 'data'] = file_name\n",
    " \n",
    "    center_result_df = pd.DataFrame(columns=train_data.columns)\n",
    "    iter_center_result_df = pd.DataFrame(columns=train_data.columns)"
   ]
  },
  {
   "cell_type": "code",
   "execution_count": 8,
   "metadata": {
    "collapsed": false
   },
   "outputs": [],
   "source": [
    "for class_name, values in train_data.groupby('label'):\n",
    "    tmp_class_name_list = values.columns\n",
    "    columns_name_list = [i for i in tmp_class_name_list if 'label' not in i]\n",
    "    tmp_center_mean_list = list(values[columns_name_list].mean())\n",
    "    tmp_center_mean_list.append(class_name)\n",
    "    center_result_df.loc[class_name, :] = tmp_center_mean_list\n",
    "    tmp_result,iter_n = stat.get_weights_iteration(values[columns_name_list], orginal_weight_array, error_param = 1e-4, max_iter= 10000, alpha=0.02)\n",
    "    tmp_result.append(class_name)\n",
    "    iter_center_result_df.loc['{name}:{iter}'.format(name = class_name, iter = iter_n), :] = tmp_result\n",
    "iter_without_label = iter_center_result_df[list(iter_center_result_df.columns)[:-1]]\n",
    "tmp_iter_std = iter_without_label.std()\n",
    "tmp_iter_std.sort_values(inplace= True)"
   ]
  },
  {
   "cell_type": "code",
   "execution_count": 10,
   "metadata": {
    "collapsed": false
   },
   "outputs": [],
   "source": [
    "# iter_without_label.to_latex('Iris_实例.tex')"
   ]
  },
  {
   "cell_type": "code",
   "execution_count": 12,
   "metadata": {
    "collapsed": false,
    "scrolled": true
   },
   "outputs": [
    {
     "data": {
      "text/plain": [
       "col_1    0.182955\n",
       "col_2    0.275724\n",
       "col_3    0.182955\n",
       "col_4    0.317692\n",
       "dtype: float64"
      ]
     },
     "execution_count": 12,
     "metadata": {},
     "output_type": "execute_result"
    }
   ],
   "source": [
    "iter_without_label.std()"
   ]
  },
  {
   "cell_type": "code",
   "execution_count": 14,
   "metadata": {
    "collapsed": false
   },
   "outputs": [],
   "source": [
    "iter_mean_value = iter_without_label.mean()"
   ]
  },
  {
   "cell_type": "code",
   "execution_count": 15,
   "metadata": {
    "collapsed": false
   },
   "outputs": [
    {
     "data": {
      "text/plain": [
       "col_1    0.119933\n",
       "col_2    0.171896\n",
       "col_3    0.119933\n",
       "col_4    0.588239\n",
       "dtype: float64"
      ]
     },
     "execution_count": 15,
     "metadata": {},
     "output_type": "execute_result"
    }
   ],
   "source": [
    "iter_mean_value"
   ]
  },
  {
   "cell_type": "code",
   "execution_count": 16,
   "metadata": {
    "collapsed": false
   },
   "outputs": [],
   "source": [
    "iter_mean_value.sort_values(ascending = False, inplace= True)"
   ]
  },
  {
   "cell_type": "code",
   "execution_count": 21,
   "metadata": {
    "collapsed": false
   },
   "outputs": [],
   "source": [
    "tmp_df = iter_mean_value.to_frame(name='mean')"
   ]
  },
  {
   "cell_type": "code",
   "execution_count": 22,
   "metadata": {
    "collapsed": false
   },
   "outputs": [
    {
     "data": {
      "text/html": [
       "<div>\n",
       "<style scoped>\n",
       "    .dataframe tbody tr th:only-of-type {\n",
       "        vertical-align: middle;\n",
       "    }\n",
       "\n",
       "    .dataframe tbody tr th {\n",
       "        vertical-align: top;\n",
       "    }\n",
       "\n",
       "    .dataframe thead th {\n",
       "        text-align: right;\n",
       "    }\n",
       "</style>\n",
       "<table border=\"1\" class=\"dataframe\">\n",
       "  <thead>\n",
       "    <tr style=\"text-align: right;\">\n",
       "      <th></th>\n",
       "      <th>mean</th>\n",
       "    </tr>\n",
       "  </thead>\n",
       "  <tbody>\n",
       "    <tr>\n",
       "      <th>col_4</th>\n",
       "      <td>0.588239</td>\n",
       "    </tr>\n",
       "    <tr>\n",
       "      <th>col_2</th>\n",
       "      <td>0.171896</td>\n",
       "    </tr>\n",
       "    <tr>\n",
       "      <th>col_3</th>\n",
       "      <td>0.119933</td>\n",
       "    </tr>\n",
       "    <tr>\n",
       "      <th>col_1</th>\n",
       "      <td>0.119933</td>\n",
       "    </tr>\n",
       "  </tbody>\n",
       "</table>\n",
       "</div>"
      ],
      "text/plain": [
       "           mean\n",
       "col_4  0.588239\n",
       "col_2  0.171896\n",
       "col_3  0.119933\n",
       "col_1  0.119933"
      ]
     },
     "execution_count": 22,
     "metadata": {},
     "output_type": "execute_result"
    }
   ],
   "source": [
    "tmp_df"
   ]
  },
  {
   "cell_type": "code",
   "execution_count": 17,
   "metadata": {
    "collapsed": false
   },
   "outputs": [],
   "source": [
    "# 累计函数\n",
    "cdf_cumsum_mean = iter_mean_value.cumsum()"
   ]
  },
  {
   "cell_type": "code",
   "execution_count": 24,
   "metadata": {
    "collapsed": false
   },
   "outputs": [],
   "source": [
    "tmp_df_one = cdf_cumsum_mean.to_frame('累计')"
   ]
  },
  {
   "cell_type": "code",
   "execution_count": 27,
   "metadata": {
    "collapsed": false
   },
   "outputs": [],
   "source": [
    "tmp_std_df = iter_without_label.std()"
   ]
  },
  {
   "cell_type": "code",
   "execution_count": 29,
   "metadata": {
    "collapsed": false
   },
   "outputs": [],
   "source": [
    "tmp_std_df = tmp_std_df.to_frame('标准差')"
   ]
  },
  {
   "cell_type": "code",
   "execution_count": 25,
   "metadata": {
    "collapsed": false
   },
   "outputs": [
    {
     "data": {
      "text/html": [
       "<div>\n",
       "<style scoped>\n",
       "    .dataframe tbody tr th:only-of-type {\n",
       "        vertical-align: middle;\n",
       "    }\n",
       "\n",
       "    .dataframe tbody tr th {\n",
       "        vertical-align: top;\n",
       "    }\n",
       "\n",
       "    .dataframe thead th {\n",
       "        text-align: right;\n",
       "    }\n",
       "</style>\n",
       "<table border=\"1\" class=\"dataframe\">\n",
       "  <thead>\n",
       "    <tr style=\"text-align: right;\">\n",
       "      <th></th>\n",
       "      <th>累计</th>\n",
       "    </tr>\n",
       "  </thead>\n",
       "  <tbody>\n",
       "    <tr>\n",
       "      <th>col_4</th>\n",
       "      <td>0.588239</td>\n",
       "    </tr>\n",
       "    <tr>\n",
       "      <th>col_2</th>\n",
       "      <td>0.760135</td>\n",
       "    </tr>\n",
       "    <tr>\n",
       "      <th>col_3</th>\n",
       "      <td>0.880067</td>\n",
       "    </tr>\n",
       "    <tr>\n",
       "      <th>col_1</th>\n",
       "      <td>1.000000</td>\n",
       "    </tr>\n",
       "  </tbody>\n",
       "</table>\n",
       "</div>"
      ],
      "text/plain": [
       "             累计\n",
       "col_4  0.588239\n",
       "col_2  0.760135\n",
       "col_3  0.880067\n",
       "col_1  1.000000"
      ]
     },
     "execution_count": 25,
     "metadata": {},
     "output_type": "execute_result"
    }
   ],
   "source": [
    "tmp_df_one"
   ]
  },
  {
   "cell_type": "code",
   "execution_count": 32,
   "metadata": {
    "collapsed": false
   },
   "outputs": [],
   "source": [
    "tmp_result = pd.concat([tmp_df, tmp_df_one,tmp_std_df], axis=1)"
   ]
  },
  {
   "cell_type": "code",
   "execution_count": 35,
   "metadata": {
    "collapsed": false
   },
   "outputs": [],
   "source": [
    "tmp_result.sort_values('累计', inplace=True)"
   ]
  },
  {
   "cell_type": "code",
   "execution_count": 37,
   "metadata": {
    "collapsed": false
   },
   "outputs": [],
   "source": [
    "tmp_result.to_latex('Iris_筛选.tex')"
   ]
  },
  {
   "cell_type": "code",
   "execution_count": 15,
   "metadata": {
    "collapsed": false
   },
   "outputs": [],
   "source": [
    "cdf_cumsum_mean_dict = cdf_cumsum_mean.to_dict()"
   ]
  },
  {
   "cell_type": "code",
   "execution_count": 16,
   "metadata": {
    "collapsed": false
   },
   "outputs": [],
   "source": [
    "# cdf_cumsum_mean_dict"
   ]
  },
  {
   "cell_type": "code",
   "execution_count": 17,
   "metadata": {
    "collapsed": true
   },
   "outputs": [],
   "source": [
    "tmp_args = 0.99999"
   ]
  },
  {
   "cell_type": "code",
   "execution_count": 18,
   "metadata": {
    "collapsed": false
   },
   "outputs": [],
   "source": [
    "# 贡献较低的数据\n",
    "iter_left_series = iter_mean_value.loc[iter_mean_value.cumsum() >= tmp_args]"
   ]
  },
  {
   "cell_type": "code",
   "execution_count": 19,
   "metadata": {
    "collapsed": false
   },
   "outputs": [],
   "source": [
    "# 欲删除个数\n",
    "prepare_del_num = len(iter_left_series)"
   ]
  },
  {
   "cell_type": "code",
   "execution_count": 20,
   "metadata": {
    "collapsed": false
   },
   "outputs": [
    {
     "data": {
      "text/plain": [
       "5"
      ]
     },
     "execution_count": 20,
     "metadata": {},
     "output_type": "execute_result"
    }
   ],
   "source": [
    "prepare_del_num"
   ]
  },
  {
   "cell_type": "code",
   "execution_count": 21,
   "metadata": {
    "collapsed": false,
    "scrolled": true
   },
   "outputs": [],
   "source": [
    "tmp_iter_std_dict = tmp_iter_std.to_dict()"
   ]
  },
  {
   "cell_type": "code",
   "execution_count": 22,
   "metadata": {
    "collapsed": false
   },
   "outputs": [
    {
     "data": {
      "text/plain": [
       "col_2     4.571008e-08\n",
       "col_13    1.794036e-06\n",
       "col_9     2.285504e-06\n",
       "col_15    2.285504e-06\n",
       "col_17    2.285504e-06\n",
       "col_18    2.355336e-06\n",
       "col_14    2.355336e-06\n",
       "col_16    2.355336e-06\n",
       "col_11    2.355336e-06\n",
       "col_12    2.355336e-06\n",
       "col_8     2.899529e-06\n",
       "col_3     3.018573e-06\n",
       "col_7     8.099318e-05\n",
       "col_10    8.283765e-05\n",
       "col_19    1.142752e-04\n",
       "col_1     1.636746e-04\n",
       "col_5     2.148970e-01\n",
       "col_6     2.325529e-01\n",
       "col_4     2.856880e-01\n",
       "dtype: float64"
      ]
     },
     "execution_count": 22,
     "metadata": {},
     "output_type": "execute_result"
    }
   ],
   "source": [
    "tmp_iter_std"
   ]
  },
  {
   "cell_type": "code",
   "execution_count": 23,
   "metadata": {
    "collapsed": false
   },
   "outputs": [
    {
     "data": {
      "text/plain": [
       "\"{'col_2': 4.5710077075063205e-08, 'col_13': 1.7940362261954181e-06, 'col_9': 2.28550385375316e-06, 'col_15': 2.2855038537531604e-06, 'col_17': 2.285503853753161e-06, 'col_18': 2.3553357890347472e-06, 'col_14': 2.355335789034749e-06, 'col_16': 2.3553357890347494e-06, 'col_11': 2.3553357890347494e-06, 'col_12': 2.3553357890347494e-06, 'col_8': 2.8995285030659137e-06, 'col_3': 3.018573450160837e-06, 'col_7': 8.099318038527539e-05, 'col_10': 8.283765119286316e-05, 'col_19': 0.00011427519268765797, 'col_1': 0.00016367458807929326, 'col_5': 0.21489700410384896, 'col_6': 0.23255291809784379, 'col_4': 0.28568798171914495}\""
      ]
     },
     "execution_count": 23,
     "metadata": {},
     "output_type": "execute_result"
    }
   ],
   "source": [
    "str(tmp_iter_std_dict)"
   ]
  },
  {
   "cell_type": "code",
   "execution_count": 24,
   "metadata": {
    "collapsed": false
   },
   "outputs": [],
   "source": [
    "# 求交集\n",
    "del_col = list(tmp_iter_std.iloc[:prepare_del_num].index & iter_left_series.index)"
   ]
  },
  {
   "cell_type": "code",
   "execution_count": 25,
   "metadata": {
    "collapsed": false
   },
   "outputs": [
    {
     "data": {
      "text/plain": [
       "['col_2', 'col_13']"
      ]
     },
     "execution_count": 25,
     "metadata": {},
     "output_type": "execute_result"
    }
   ],
   "source": [
    "del_col"
   ]
  },
  {
   "cell_type": "code",
   "execution_count": 26,
   "metadata": {
    "collapsed": true
   },
   "outputs": [],
   "source": [
    "# del_col = list(tmp_iter_std.iloc[:2].index)"
   ]
  },
  {
   "cell_type": "code",
   "execution_count": 27,
   "metadata": {
    "collapsed": false
   },
   "outputs": [],
   "source": [
    "# del_col = del_col[:]"
   ]
  },
  {
   "cell_type": "code",
   "execution_count": 28,
   "metadata": {
    "collapsed": true
   },
   "outputs": [],
   "source": [
    "# 删除个数\n",
    "del_len = len(del_col)"
   ]
  },
  {
   "cell_type": "code",
   "execution_count": 29,
   "metadata": {
    "collapsed": false
   },
   "outputs": [],
   "source": [
    "del_train_data = train_data.drop(del_col, axis=1)\n",
    "del_test_data = test_data.drop(del_col, axis=1)\n",
    "for del_k_value in range(1, 21):\n",
    "    del_clf = knn.KNeighborsClassifier(n_neighbors = del_k_value, weights = 'uniform')\n",
    "    del_clf.fit(del_train_data.drop('label', axis = 1), del_train_data['label'])\n",
    "    # 预测结果\n",
    "    del_predict_label_array = del_clf.predict(del_test_data.drop('label', axis=1))\n",
    "    del_classic_knn_result = stat.get_accuracy_score(del_predict_label_array, del_test_data['label'])\n",
    "    last_result_df.loc['{data}:{k}'.format(data = file_name, k = del_k_value), 'delKNN'] = round(del_classic_knn_result * 100,2)\n",
    "    last_result_df.loc['{data}:{k}'.format(data = file_name, k = del_k_value), 'del_attr'] = del_col\n",
    "    last_result_df.loc['{data}:{k}'.format(data = file_name, k = del_k_value), 'del_num'] = del_len\n",
    "    last_result_df.loc['{data}:{k}'.format(data = file_name, k = del_k_value), 'pre_del_num'] = prepare_del_num\n",
    "    last_result_df.loc['{data}:{k}'.format(data = file_name, k = del_k_value), 'iter_cdf_mean'] = str(cdf_cumsum_mean_dict)\n",
    "    last_result_df.loc['{data}:{k}'.format(data = file_name, k = del_k_value), 'iter_std'] = str(tmp_iter_std_dict)"
   ]
  },
  {
   "cell_type": "code",
   "execution_count": 30,
   "metadata": {
    "collapsed": false
   },
   "outputs": [
    {
     "data": {
      "text/html": [
       "<div>\n",
       "<style scoped>\n",
       "    .dataframe tbody tr th:only-of-type {\n",
       "        vertical-align: middle;\n",
       "    }\n",
       "\n",
       "    .dataframe tbody tr th {\n",
       "        vertical-align: top;\n",
       "    }\n",
       "\n",
       "    .dataframe thead th {\n",
       "        text-align: right;\n",
       "    }\n",
       "</style>\n",
       "<table border=\"1\" class=\"dataframe\">\n",
       "  <thead>\n",
       "    <tr style=\"text-align: right;\">\n",
       "      <th></th>\n",
       "      <th>k_value</th>\n",
       "      <th>KNN</th>\n",
       "      <th>delKNN</th>\n",
       "      <th>del_num</th>\n",
       "      <th>pre_del_num</th>\n",
       "      <th>del_attr</th>\n",
       "      <th>iter_cdf_mean</th>\n",
       "      <th>iter_std</th>\n",
       "      <th>data</th>\n",
       "    </tr>\n",
       "  </thead>\n",
       "  <tbody>\n",
       "    <tr>\n",
       "      <th>new-segmentation:1</th>\n",
       "      <td>1</td>\n",
       "      <td>79.73</td>\n",
       "      <td>89.19</td>\n",
       "      <td>2</td>\n",
       "      <td>5</td>\n",
       "      <td>[col_2, col_13]</td>\n",
       "      <td>{'col_4': 0.594576188030447, 'col_6': 0.832672...</td>\n",
       "      <td>{'col_2': 4.5710077075063205e-08, 'col_13': 1....</td>\n",
       "      <td>new-segmentation</td>\n",
       "    </tr>\n",
       "    <tr>\n",
       "      <th>new-segmentation:2</th>\n",
       "      <td>2</td>\n",
       "      <td>70.27</td>\n",
       "      <td>83.78</td>\n",
       "      <td>2</td>\n",
       "      <td>5</td>\n",
       "      <td>[col_2, col_13]</td>\n",
       "      <td>{'col_4': 0.594576188030447, 'col_6': 0.832672...</td>\n",
       "      <td>{'col_2': 4.5710077075063205e-08, 'col_13': 1....</td>\n",
       "      <td>new-segmentation</td>\n",
       "    </tr>\n",
       "    <tr>\n",
       "      <th>new-segmentation:3</th>\n",
       "      <td>3</td>\n",
       "      <td>72.97</td>\n",
       "      <td>86.49</td>\n",
       "      <td>2</td>\n",
       "      <td>5</td>\n",
       "      <td>[col_2, col_13]</td>\n",
       "      <td>{'col_4': 0.594576188030447, 'col_6': 0.832672...</td>\n",
       "      <td>{'col_2': 4.5710077075063205e-08, 'col_13': 1....</td>\n",
       "      <td>new-segmentation</td>\n",
       "    </tr>\n",
       "    <tr>\n",
       "      <th>new-segmentation:4</th>\n",
       "      <td>4</td>\n",
       "      <td>72.97</td>\n",
       "      <td>83.78</td>\n",
       "      <td>2</td>\n",
       "      <td>5</td>\n",
       "      <td>[col_2, col_13]</td>\n",
       "      <td>{'col_4': 0.594576188030447, 'col_6': 0.832672...</td>\n",
       "      <td>{'col_2': 4.5710077075063205e-08, 'col_13': 1....</td>\n",
       "      <td>new-segmentation</td>\n",
       "    </tr>\n",
       "    <tr>\n",
       "      <th>new-segmentation:5</th>\n",
       "      <td>5</td>\n",
       "      <td>74.32</td>\n",
       "      <td>85.14</td>\n",
       "      <td>2</td>\n",
       "      <td>5</td>\n",
       "      <td>[col_2, col_13]</td>\n",
       "      <td>{'col_4': 0.594576188030447, 'col_6': 0.832672...</td>\n",
       "      <td>{'col_2': 4.5710077075063205e-08, 'col_13': 1....</td>\n",
       "      <td>new-segmentation</td>\n",
       "    </tr>\n",
       "    <tr>\n",
       "      <th>new-segmentation:6</th>\n",
       "      <td>6</td>\n",
       "      <td>70.27</td>\n",
       "      <td>82.43</td>\n",
       "      <td>2</td>\n",
       "      <td>5</td>\n",
       "      <td>[col_2, col_13]</td>\n",
       "      <td>{'col_4': 0.594576188030447, 'col_6': 0.832672...</td>\n",
       "      <td>{'col_2': 4.5710077075063205e-08, 'col_13': 1....</td>\n",
       "      <td>new-segmentation</td>\n",
       "    </tr>\n",
       "    <tr>\n",
       "      <th>new-segmentation:7</th>\n",
       "      <td>7</td>\n",
       "      <td>72.97</td>\n",
       "      <td>82.43</td>\n",
       "      <td>2</td>\n",
       "      <td>5</td>\n",
       "      <td>[col_2, col_13]</td>\n",
       "      <td>{'col_4': 0.594576188030447, 'col_6': 0.832672...</td>\n",
       "      <td>{'col_2': 4.5710077075063205e-08, 'col_13': 1....</td>\n",
       "      <td>new-segmentation</td>\n",
       "    </tr>\n",
       "    <tr>\n",
       "      <th>new-segmentation:8</th>\n",
       "      <td>8</td>\n",
       "      <td>74.32</td>\n",
       "      <td>79.73</td>\n",
       "      <td>2</td>\n",
       "      <td>5</td>\n",
       "      <td>[col_2, col_13]</td>\n",
       "      <td>{'col_4': 0.594576188030447, 'col_6': 0.832672...</td>\n",
       "      <td>{'col_2': 4.5710077075063205e-08, 'col_13': 1....</td>\n",
       "      <td>new-segmentation</td>\n",
       "    </tr>\n",
       "    <tr>\n",
       "      <th>new-segmentation:9</th>\n",
       "      <td>9</td>\n",
       "      <td>75.68</td>\n",
       "      <td>78.38</td>\n",
       "      <td>2</td>\n",
       "      <td>5</td>\n",
       "      <td>[col_2, col_13]</td>\n",
       "      <td>{'col_4': 0.594576188030447, 'col_6': 0.832672...</td>\n",
       "      <td>{'col_2': 4.5710077075063205e-08, 'col_13': 1....</td>\n",
       "      <td>new-segmentation</td>\n",
       "    </tr>\n",
       "    <tr>\n",
       "      <th>new-segmentation:10</th>\n",
       "      <td>10</td>\n",
       "      <td>75.68</td>\n",
       "      <td>79.73</td>\n",
       "      <td>2</td>\n",
       "      <td>5</td>\n",
       "      <td>[col_2, col_13]</td>\n",
       "      <td>{'col_4': 0.594576188030447, 'col_6': 0.832672...</td>\n",
       "      <td>{'col_2': 4.5710077075063205e-08, 'col_13': 1....</td>\n",
       "      <td>new-segmentation</td>\n",
       "    </tr>\n",
       "    <tr>\n",
       "      <th>new-segmentation:11</th>\n",
       "      <td>11</td>\n",
       "      <td>72.97</td>\n",
       "      <td>79.73</td>\n",
       "      <td>2</td>\n",
       "      <td>5</td>\n",
       "      <td>[col_2, col_13]</td>\n",
       "      <td>{'col_4': 0.594576188030447, 'col_6': 0.832672...</td>\n",
       "      <td>{'col_2': 4.5710077075063205e-08, 'col_13': 1....</td>\n",
       "      <td>new-segmentation</td>\n",
       "    </tr>\n",
       "    <tr>\n",
       "      <th>new-segmentation:12</th>\n",
       "      <td>12</td>\n",
       "      <td>70.27</td>\n",
       "      <td>81.08</td>\n",
       "      <td>2</td>\n",
       "      <td>5</td>\n",
       "      <td>[col_2, col_13]</td>\n",
       "      <td>{'col_4': 0.594576188030447, 'col_6': 0.832672...</td>\n",
       "      <td>{'col_2': 4.5710077075063205e-08, 'col_13': 1....</td>\n",
       "      <td>new-segmentation</td>\n",
       "    </tr>\n",
       "    <tr>\n",
       "      <th>new-segmentation:13</th>\n",
       "      <td>13</td>\n",
       "      <td>74.32</td>\n",
       "      <td>79.73</td>\n",
       "      <td>2</td>\n",
       "      <td>5</td>\n",
       "      <td>[col_2, col_13]</td>\n",
       "      <td>{'col_4': 0.594576188030447, 'col_6': 0.832672...</td>\n",
       "      <td>{'col_2': 4.5710077075063205e-08, 'col_13': 1....</td>\n",
       "      <td>new-segmentation</td>\n",
       "    </tr>\n",
       "    <tr>\n",
       "      <th>new-segmentation:14</th>\n",
       "      <td>14</td>\n",
       "      <td>70.27</td>\n",
       "      <td>78.38</td>\n",
       "      <td>2</td>\n",
       "      <td>5</td>\n",
       "      <td>[col_2, col_13]</td>\n",
       "      <td>{'col_4': 0.594576188030447, 'col_6': 0.832672...</td>\n",
       "      <td>{'col_2': 4.5710077075063205e-08, 'col_13': 1....</td>\n",
       "      <td>new-segmentation</td>\n",
       "    </tr>\n",
       "    <tr>\n",
       "      <th>new-segmentation:15</th>\n",
       "      <td>15</td>\n",
       "      <td>68.92</td>\n",
       "      <td>77.03</td>\n",
       "      <td>2</td>\n",
       "      <td>5</td>\n",
       "      <td>[col_2, col_13]</td>\n",
       "      <td>{'col_4': 0.594576188030447, 'col_6': 0.832672...</td>\n",
       "      <td>{'col_2': 4.5710077075063205e-08, 'col_13': 1....</td>\n",
       "      <td>new-segmentation</td>\n",
       "    </tr>\n",
       "    <tr>\n",
       "      <th>new-segmentation:16</th>\n",
       "      <td>16</td>\n",
       "      <td>70.27</td>\n",
       "      <td>77.03</td>\n",
       "      <td>2</td>\n",
       "      <td>5</td>\n",
       "      <td>[col_2, col_13]</td>\n",
       "      <td>{'col_4': 0.594576188030447, 'col_6': 0.832672...</td>\n",
       "      <td>{'col_2': 4.5710077075063205e-08, 'col_13': 1....</td>\n",
       "      <td>new-segmentation</td>\n",
       "    </tr>\n",
       "    <tr>\n",
       "      <th>new-segmentation:17</th>\n",
       "      <td>17</td>\n",
       "      <td>71.62</td>\n",
       "      <td>78.38</td>\n",
       "      <td>2</td>\n",
       "      <td>5</td>\n",
       "      <td>[col_2, col_13]</td>\n",
       "      <td>{'col_4': 0.594576188030447, 'col_6': 0.832672...</td>\n",
       "      <td>{'col_2': 4.5710077075063205e-08, 'col_13': 1....</td>\n",
       "      <td>new-segmentation</td>\n",
       "    </tr>\n",
       "    <tr>\n",
       "      <th>new-segmentation:18</th>\n",
       "      <td>18</td>\n",
       "      <td>67.57</td>\n",
       "      <td>78.38</td>\n",
       "      <td>2</td>\n",
       "      <td>5</td>\n",
       "      <td>[col_2, col_13]</td>\n",
       "      <td>{'col_4': 0.594576188030447, 'col_6': 0.832672...</td>\n",
       "      <td>{'col_2': 4.5710077075063205e-08, 'col_13': 1....</td>\n",
       "      <td>new-segmentation</td>\n",
       "    </tr>\n",
       "    <tr>\n",
       "      <th>new-segmentation:19</th>\n",
       "      <td>19</td>\n",
       "      <td>67.57</td>\n",
       "      <td>77.03</td>\n",
       "      <td>2</td>\n",
       "      <td>5</td>\n",
       "      <td>[col_2, col_13]</td>\n",
       "      <td>{'col_4': 0.594576188030447, 'col_6': 0.832672...</td>\n",
       "      <td>{'col_2': 4.5710077075063205e-08, 'col_13': 1....</td>\n",
       "      <td>new-segmentation</td>\n",
       "    </tr>\n",
       "    <tr>\n",
       "      <th>new-segmentation:20</th>\n",
       "      <td>20</td>\n",
       "      <td>71.62</td>\n",
       "      <td>75.68</td>\n",
       "      <td>2</td>\n",
       "      <td>5</td>\n",
       "      <td>[col_2, col_13]</td>\n",
       "      <td>{'col_4': 0.594576188030447, 'col_6': 0.832672...</td>\n",
       "      <td>{'col_2': 4.5710077075063205e-08, 'col_13': 1....</td>\n",
       "      <td>new-segmentation</td>\n",
       "    </tr>\n",
       "  </tbody>\n",
       "</table>\n",
       "</div>"
      ],
      "text/plain": [
       "                    k_value    KNN delKNN del_num pre_del_num  \\\n",
       "new-segmentation:1        1  79.73  89.19       2           5   \n",
       "new-segmentation:2        2  70.27  83.78       2           5   \n",
       "new-segmentation:3        3  72.97  86.49       2           5   \n",
       "new-segmentation:4        4  72.97  83.78       2           5   \n",
       "new-segmentation:5        5  74.32  85.14       2           5   \n",
       "new-segmentation:6        6  70.27  82.43       2           5   \n",
       "new-segmentation:7        7  72.97  82.43       2           5   \n",
       "new-segmentation:8        8  74.32  79.73       2           5   \n",
       "new-segmentation:9        9  75.68  78.38       2           5   \n",
       "new-segmentation:10      10  75.68  79.73       2           5   \n",
       "new-segmentation:11      11  72.97  79.73       2           5   \n",
       "new-segmentation:12      12  70.27  81.08       2           5   \n",
       "new-segmentation:13      13  74.32  79.73       2           5   \n",
       "new-segmentation:14      14  70.27  78.38       2           5   \n",
       "new-segmentation:15      15  68.92  77.03       2           5   \n",
       "new-segmentation:16      16  70.27  77.03       2           5   \n",
       "new-segmentation:17      17  71.62  78.38       2           5   \n",
       "new-segmentation:18      18  67.57  78.38       2           5   \n",
       "new-segmentation:19      19  67.57  77.03       2           5   \n",
       "new-segmentation:20      20  71.62  75.68       2           5   \n",
       "\n",
       "                            del_attr  \\\n",
       "new-segmentation:1   [col_2, col_13]   \n",
       "new-segmentation:2   [col_2, col_13]   \n",
       "new-segmentation:3   [col_2, col_13]   \n",
       "new-segmentation:4   [col_2, col_13]   \n",
       "new-segmentation:5   [col_2, col_13]   \n",
       "new-segmentation:6   [col_2, col_13]   \n",
       "new-segmentation:7   [col_2, col_13]   \n",
       "new-segmentation:8   [col_2, col_13]   \n",
       "new-segmentation:9   [col_2, col_13]   \n",
       "new-segmentation:10  [col_2, col_13]   \n",
       "new-segmentation:11  [col_2, col_13]   \n",
       "new-segmentation:12  [col_2, col_13]   \n",
       "new-segmentation:13  [col_2, col_13]   \n",
       "new-segmentation:14  [col_2, col_13]   \n",
       "new-segmentation:15  [col_2, col_13]   \n",
       "new-segmentation:16  [col_2, col_13]   \n",
       "new-segmentation:17  [col_2, col_13]   \n",
       "new-segmentation:18  [col_2, col_13]   \n",
       "new-segmentation:19  [col_2, col_13]   \n",
       "new-segmentation:20  [col_2, col_13]   \n",
       "\n",
       "                                                         iter_cdf_mean  \\\n",
       "new-segmentation:1   {'col_4': 0.594576188030447, 'col_6': 0.832672...   \n",
       "new-segmentation:2   {'col_4': 0.594576188030447, 'col_6': 0.832672...   \n",
       "new-segmentation:3   {'col_4': 0.594576188030447, 'col_6': 0.832672...   \n",
       "new-segmentation:4   {'col_4': 0.594576188030447, 'col_6': 0.832672...   \n",
       "new-segmentation:5   {'col_4': 0.594576188030447, 'col_6': 0.832672...   \n",
       "new-segmentation:6   {'col_4': 0.594576188030447, 'col_6': 0.832672...   \n",
       "new-segmentation:7   {'col_4': 0.594576188030447, 'col_6': 0.832672...   \n",
       "new-segmentation:8   {'col_4': 0.594576188030447, 'col_6': 0.832672...   \n",
       "new-segmentation:9   {'col_4': 0.594576188030447, 'col_6': 0.832672...   \n",
       "new-segmentation:10  {'col_4': 0.594576188030447, 'col_6': 0.832672...   \n",
       "new-segmentation:11  {'col_4': 0.594576188030447, 'col_6': 0.832672...   \n",
       "new-segmentation:12  {'col_4': 0.594576188030447, 'col_6': 0.832672...   \n",
       "new-segmentation:13  {'col_4': 0.594576188030447, 'col_6': 0.832672...   \n",
       "new-segmentation:14  {'col_4': 0.594576188030447, 'col_6': 0.832672...   \n",
       "new-segmentation:15  {'col_4': 0.594576188030447, 'col_6': 0.832672...   \n",
       "new-segmentation:16  {'col_4': 0.594576188030447, 'col_6': 0.832672...   \n",
       "new-segmentation:17  {'col_4': 0.594576188030447, 'col_6': 0.832672...   \n",
       "new-segmentation:18  {'col_4': 0.594576188030447, 'col_6': 0.832672...   \n",
       "new-segmentation:19  {'col_4': 0.594576188030447, 'col_6': 0.832672...   \n",
       "new-segmentation:20  {'col_4': 0.594576188030447, 'col_6': 0.832672...   \n",
       "\n",
       "                                                              iter_std  \\\n",
       "new-segmentation:1   {'col_2': 4.5710077075063205e-08, 'col_13': 1....   \n",
       "new-segmentation:2   {'col_2': 4.5710077075063205e-08, 'col_13': 1....   \n",
       "new-segmentation:3   {'col_2': 4.5710077075063205e-08, 'col_13': 1....   \n",
       "new-segmentation:4   {'col_2': 4.5710077075063205e-08, 'col_13': 1....   \n",
       "new-segmentation:5   {'col_2': 4.5710077075063205e-08, 'col_13': 1....   \n",
       "new-segmentation:6   {'col_2': 4.5710077075063205e-08, 'col_13': 1....   \n",
       "new-segmentation:7   {'col_2': 4.5710077075063205e-08, 'col_13': 1....   \n",
       "new-segmentation:8   {'col_2': 4.5710077075063205e-08, 'col_13': 1....   \n",
       "new-segmentation:9   {'col_2': 4.5710077075063205e-08, 'col_13': 1....   \n",
       "new-segmentation:10  {'col_2': 4.5710077075063205e-08, 'col_13': 1....   \n",
       "new-segmentation:11  {'col_2': 4.5710077075063205e-08, 'col_13': 1....   \n",
       "new-segmentation:12  {'col_2': 4.5710077075063205e-08, 'col_13': 1....   \n",
       "new-segmentation:13  {'col_2': 4.5710077075063205e-08, 'col_13': 1....   \n",
       "new-segmentation:14  {'col_2': 4.5710077075063205e-08, 'col_13': 1....   \n",
       "new-segmentation:15  {'col_2': 4.5710077075063205e-08, 'col_13': 1....   \n",
       "new-segmentation:16  {'col_2': 4.5710077075063205e-08, 'col_13': 1....   \n",
       "new-segmentation:17  {'col_2': 4.5710077075063205e-08, 'col_13': 1....   \n",
       "new-segmentation:18  {'col_2': 4.5710077075063205e-08, 'col_13': 1....   \n",
       "new-segmentation:19  {'col_2': 4.5710077075063205e-08, 'col_13': 1....   \n",
       "new-segmentation:20  {'col_2': 4.5710077075063205e-08, 'col_13': 1....   \n",
       "\n",
       "                                 data  \n",
       "new-segmentation:1   new-segmentation  \n",
       "new-segmentation:2   new-segmentation  \n",
       "new-segmentation:3   new-segmentation  \n",
       "new-segmentation:4   new-segmentation  \n",
       "new-segmentation:5   new-segmentation  \n",
       "new-segmentation:6   new-segmentation  \n",
       "new-segmentation:7   new-segmentation  \n",
       "new-segmentation:8   new-segmentation  \n",
       "new-segmentation:9   new-segmentation  \n",
       "new-segmentation:10  new-segmentation  \n",
       "new-segmentation:11  new-segmentation  \n",
       "new-segmentation:12  new-segmentation  \n",
       "new-segmentation:13  new-segmentation  \n",
       "new-segmentation:14  new-segmentation  \n",
       "new-segmentation:15  new-segmentation  \n",
       "new-segmentation:16  new-segmentation  \n",
       "new-segmentation:17  new-segmentation  \n",
       "new-segmentation:18  new-segmentation  \n",
       "new-segmentation:19  new-segmentation  \n",
       "new-segmentation:20  new-segmentation  "
      ]
     },
     "execution_count": 30,
     "metadata": {},
     "output_type": "execute_result"
    }
   ],
   "source": [
    "last_result_df"
   ]
  },
  {
   "cell_type": "code",
   "execution_count": null,
   "metadata": {
    "collapsed": true
   },
   "outputs": [],
   "source": []
  },
  {
   "cell_type": "code",
   "execution_count": 31,
   "metadata": {
    "collapsed": false
   },
   "outputs": [],
   "source": [
    "# last_result_df.to_excel('{filename}_阈值_{arg}.xls'.format(filename = file_name, arg = tmp_args))"
   ]
  },
  {
   "cell_type": "code",
   "execution_count": null,
   "metadata": {
    "collapsed": true
   },
   "outputs": [],
   "source": []
  },
  {
   "cell_type": "code",
   "execution_count": null,
   "metadata": {
    "collapsed": true
   },
   "outputs": [],
   "source": []
  }
 ],
 "metadata": {
  "kernelspec": {
   "display_name": "Python 3",
   "language": "python",
   "name": "python3"
  },
  "language_info": {
   "codemirror_mode": {
    "name": "ipython",
    "version": 3
   },
   "file_extension": ".py",
   "mimetype": "text/x-python",
   "name": "python",
   "nbconvert_exporter": "python",
   "pygments_lexer": "ipython3",
   "version": "3.6.2"
  }
 },
 "nbformat": 4,
 "nbformat_minor": 2
}
