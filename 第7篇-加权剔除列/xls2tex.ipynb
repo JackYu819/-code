{
 "cells": [
  {
   "cell_type": "code",
   "execution_count": 1,
   "metadata": {
    "collapsed": true
   },
   "outputs": [],
   "source": [
    "import os\n",
    "import pandas as pd\n",
    "import numpy as np"
   ]
  },
  {
   "cell_type": "code",
   "execution_count": 5,
   "metadata": {
    "collapsed": false
   },
   "outputs": [],
   "source": [
    "data_path = [i for i in os.listdir() if '.xls' in i]"
   ]
  },
  {
   "cell_type": "code",
   "execution_count": 6,
   "metadata": {
    "collapsed": false
   },
   "outputs": [
    {
     "data": {
      "text/plain": [
       "['iris_阈值_0.98.xls',\n",
       " 'new-balance-scale_阈值_0.95.xls',\n",
       " 'new-breast-cancer-wisconsin_阈值_0.98.xls',\n",
       " 'new-segmentation_阈值_0.99999.xls',\n",
       " 'new-win_阈值_0.995.xls',\n",
       " 'new-winequality-red_阈值_0.9995.xls',\n",
       " 'new-winequality-white_阈值_0.9999.xls',\n",
       " 'new1-new-glass_阈值_0.98.xls',\n",
       " 'seeds_dataset_阈值_0.98.xls']"
      ]
     },
     "execution_count": 6,
     "metadata": {},
     "output_type": "execute_result"
    }
   ],
   "source": [
    "data_path"
   ]
  },
  {
   "cell_type": "code",
   "execution_count": 42,
   "metadata": {
    "collapsed": true
   },
   "outputs": [],
   "source": [
    "data_df  = pd.read_excel('new-segmentation_阈值_0.99999.xls')"
   ]
  },
  {
   "cell_type": "code",
   "execution_count": 43,
   "metadata": {
    "collapsed": false
   },
   "outputs": [],
   "source": [
    "part_data_df = data_df[['k_value', 'KNN', 'delKNN', 'del_num', 'del_attr']]"
   ]
  },
  {
   "cell_type": "code",
   "execution_count": 44,
   "metadata": {
    "collapsed": false
   },
   "outputs": [
    {
     "data": {
      "text/html": [
       "<div>\n",
       "<style scoped>\n",
       "    .dataframe tbody tr th:only-of-type {\n",
       "        vertical-align: middle;\n",
       "    }\n",
       "\n",
       "    .dataframe tbody tr th {\n",
       "        vertical-align: top;\n",
       "    }\n",
       "\n",
       "    .dataframe thead th {\n",
       "        text-align: right;\n",
       "    }\n",
       "</style>\n",
       "<table border=\"1\" class=\"dataframe\">\n",
       "  <thead>\n",
       "    <tr style=\"text-align: right;\">\n",
       "      <th></th>\n",
       "      <th>k_value</th>\n",
       "      <th>KNN</th>\n",
       "      <th>delKNN</th>\n",
       "      <th>del_num</th>\n",
       "      <th>del_attr</th>\n",
       "    </tr>\n",
       "  </thead>\n",
       "  <tbody>\n",
       "    <tr>\n",
       "      <th>new-segmentation:1</th>\n",
       "      <td>1</td>\n",
       "      <td>79.73</td>\n",
       "      <td>89.19</td>\n",
       "      <td>2</td>\n",
       "      <td>['col_2', 'col_13']</td>\n",
       "    </tr>\n",
       "    <tr>\n",
       "      <th>new-segmentation:2</th>\n",
       "      <td>2</td>\n",
       "      <td>70.27</td>\n",
       "      <td>83.78</td>\n",
       "      <td>2</td>\n",
       "      <td>['col_2', 'col_13']</td>\n",
       "    </tr>\n",
       "    <tr>\n",
       "      <th>new-segmentation:3</th>\n",
       "      <td>3</td>\n",
       "      <td>72.97</td>\n",
       "      <td>86.49</td>\n",
       "      <td>2</td>\n",
       "      <td>['col_2', 'col_13']</td>\n",
       "    </tr>\n",
       "    <tr>\n",
       "      <th>new-segmentation:4</th>\n",
       "      <td>4</td>\n",
       "      <td>72.97</td>\n",
       "      <td>83.78</td>\n",
       "      <td>2</td>\n",
       "      <td>['col_2', 'col_13']</td>\n",
       "    </tr>\n",
       "    <tr>\n",
       "      <th>new-segmentation:5</th>\n",
       "      <td>5</td>\n",
       "      <td>74.32</td>\n",
       "      <td>85.14</td>\n",
       "      <td>2</td>\n",
       "      <td>['col_2', 'col_13']</td>\n",
       "    </tr>\n",
       "    <tr>\n",
       "      <th>new-segmentation:6</th>\n",
       "      <td>6</td>\n",
       "      <td>70.27</td>\n",
       "      <td>82.43</td>\n",
       "      <td>2</td>\n",
       "      <td>['col_2', 'col_13']</td>\n",
       "    </tr>\n",
       "    <tr>\n",
       "      <th>new-segmentation:7</th>\n",
       "      <td>7</td>\n",
       "      <td>72.97</td>\n",
       "      <td>82.43</td>\n",
       "      <td>2</td>\n",
       "      <td>['col_2', 'col_13']</td>\n",
       "    </tr>\n",
       "    <tr>\n",
       "      <th>new-segmentation:8</th>\n",
       "      <td>8</td>\n",
       "      <td>74.32</td>\n",
       "      <td>79.73</td>\n",
       "      <td>2</td>\n",
       "      <td>['col_2', 'col_13']</td>\n",
       "    </tr>\n",
       "    <tr>\n",
       "      <th>new-segmentation:9</th>\n",
       "      <td>9</td>\n",
       "      <td>75.68</td>\n",
       "      <td>78.38</td>\n",
       "      <td>2</td>\n",
       "      <td>['col_2', 'col_13']</td>\n",
       "    </tr>\n",
       "    <tr>\n",
       "      <th>new-segmentation:10</th>\n",
       "      <td>10</td>\n",
       "      <td>75.68</td>\n",
       "      <td>79.73</td>\n",
       "      <td>2</td>\n",
       "      <td>['col_2', 'col_13']</td>\n",
       "    </tr>\n",
       "    <tr>\n",
       "      <th>new-segmentation:11</th>\n",
       "      <td>11</td>\n",
       "      <td>72.97</td>\n",
       "      <td>79.73</td>\n",
       "      <td>2</td>\n",
       "      <td>['col_2', 'col_13']</td>\n",
       "    </tr>\n",
       "    <tr>\n",
       "      <th>new-segmentation:12</th>\n",
       "      <td>12</td>\n",
       "      <td>70.27</td>\n",
       "      <td>81.08</td>\n",
       "      <td>2</td>\n",
       "      <td>['col_2', 'col_13']</td>\n",
       "    </tr>\n",
       "    <tr>\n",
       "      <th>new-segmentation:13</th>\n",
       "      <td>13</td>\n",
       "      <td>74.32</td>\n",
       "      <td>79.73</td>\n",
       "      <td>2</td>\n",
       "      <td>['col_2', 'col_13']</td>\n",
       "    </tr>\n",
       "    <tr>\n",
       "      <th>new-segmentation:14</th>\n",
       "      <td>14</td>\n",
       "      <td>70.27</td>\n",
       "      <td>78.38</td>\n",
       "      <td>2</td>\n",
       "      <td>['col_2', 'col_13']</td>\n",
       "    </tr>\n",
       "    <tr>\n",
       "      <th>new-segmentation:15</th>\n",
       "      <td>15</td>\n",
       "      <td>68.92</td>\n",
       "      <td>77.03</td>\n",
       "      <td>2</td>\n",
       "      <td>['col_2', 'col_13']</td>\n",
       "    </tr>\n",
       "    <tr>\n",
       "      <th>new-segmentation:16</th>\n",
       "      <td>16</td>\n",
       "      <td>70.27</td>\n",
       "      <td>77.03</td>\n",
       "      <td>2</td>\n",
       "      <td>['col_2', 'col_13']</td>\n",
       "    </tr>\n",
       "    <tr>\n",
       "      <th>new-segmentation:17</th>\n",
       "      <td>17</td>\n",
       "      <td>71.62</td>\n",
       "      <td>78.38</td>\n",
       "      <td>2</td>\n",
       "      <td>['col_2', 'col_13']</td>\n",
       "    </tr>\n",
       "    <tr>\n",
       "      <th>new-segmentation:18</th>\n",
       "      <td>18</td>\n",
       "      <td>67.57</td>\n",
       "      <td>78.38</td>\n",
       "      <td>2</td>\n",
       "      <td>['col_2', 'col_13']</td>\n",
       "    </tr>\n",
       "    <tr>\n",
       "      <th>new-segmentation:19</th>\n",
       "      <td>19</td>\n",
       "      <td>67.57</td>\n",
       "      <td>77.03</td>\n",
       "      <td>2</td>\n",
       "      <td>['col_2', 'col_13']</td>\n",
       "    </tr>\n",
       "    <tr>\n",
       "      <th>new-segmentation:20</th>\n",
       "      <td>20</td>\n",
       "      <td>71.62</td>\n",
       "      <td>75.68</td>\n",
       "      <td>2</td>\n",
       "      <td>['col_2', 'col_13']</td>\n",
       "    </tr>\n",
       "  </tbody>\n",
       "</table>\n",
       "</div>"
      ],
      "text/plain": [
       "                     k_value    KNN  delKNN  del_num             del_attr\n",
       "new-segmentation:1         1  79.73   89.19        2  ['col_2', 'col_13']\n",
       "new-segmentation:2         2  70.27   83.78        2  ['col_2', 'col_13']\n",
       "new-segmentation:3         3  72.97   86.49        2  ['col_2', 'col_13']\n",
       "new-segmentation:4         4  72.97   83.78        2  ['col_2', 'col_13']\n",
       "new-segmentation:5         5  74.32   85.14        2  ['col_2', 'col_13']\n",
       "new-segmentation:6         6  70.27   82.43        2  ['col_2', 'col_13']\n",
       "new-segmentation:7         7  72.97   82.43        2  ['col_2', 'col_13']\n",
       "new-segmentation:8         8  74.32   79.73        2  ['col_2', 'col_13']\n",
       "new-segmentation:9         9  75.68   78.38        2  ['col_2', 'col_13']\n",
       "new-segmentation:10       10  75.68   79.73        2  ['col_2', 'col_13']\n",
       "new-segmentation:11       11  72.97   79.73        2  ['col_2', 'col_13']\n",
       "new-segmentation:12       12  70.27   81.08        2  ['col_2', 'col_13']\n",
       "new-segmentation:13       13  74.32   79.73        2  ['col_2', 'col_13']\n",
       "new-segmentation:14       14  70.27   78.38        2  ['col_2', 'col_13']\n",
       "new-segmentation:15       15  68.92   77.03        2  ['col_2', 'col_13']\n",
       "new-segmentation:16       16  70.27   77.03        2  ['col_2', 'col_13']\n",
       "new-segmentation:17       17  71.62   78.38        2  ['col_2', 'col_13']\n",
       "new-segmentation:18       18  67.57   78.38        2  ['col_2', 'col_13']\n",
       "new-segmentation:19       19  67.57   77.03        2  ['col_2', 'col_13']\n",
       "new-segmentation:20       20  71.62   75.68        2  ['col_2', 'col_13']"
      ]
     },
     "execution_count": 44,
     "metadata": {},
     "output_type": "execute_result"
    }
   ],
   "source": [
    "part_data_df"
   ]
  },
  {
   "cell_type": "code",
   "execution_count": 40,
   "metadata": {
    "collapsed": false
   },
   "outputs": [
    {
     "data": {
      "text/html": [
       "<div>\n",
       "<style scoped>\n",
       "    .dataframe tbody tr th:only-of-type {\n",
       "        vertical-align: middle;\n",
       "    }\n",
       "\n",
       "    .dataframe tbody tr th {\n",
       "        vertical-align: top;\n",
       "    }\n",
       "\n",
       "    .dataframe thead th {\n",
       "        text-align: right;\n",
       "    }\n",
       "</style>\n",
       "<table border=\"1\" class=\"dataframe\">\n",
       "  <thead>\n",
       "    <tr style=\"text-align: right;\">\n",
       "      <th></th>\n",
       "      <th>k_value</th>\n",
       "      <th>KNN</th>\n",
       "      <th>delKNN</th>\n",
       "      <th>del_num</th>\n",
       "    </tr>\n",
       "  </thead>\n",
       "  <tbody>\n",
       "    <tr>\n",
       "      <th>count</th>\n",
       "      <td>20.00000</td>\n",
       "      <td>20.00000</td>\n",
       "      <td>20.000000</td>\n",
       "      <td>20.0</td>\n",
       "    </tr>\n",
       "    <tr>\n",
       "      <th>mean</th>\n",
       "      <td>10.50000</td>\n",
       "      <td>51.00950</td>\n",
       "      <td>57.669500</td>\n",
       "      <td>3.0</td>\n",
       "    </tr>\n",
       "    <tr>\n",
       "      <th>std</th>\n",
       "      <td>5.91608</td>\n",
       "      <td>1.64223</td>\n",
       "      <td>1.923389</td>\n",
       "      <td>0.0</td>\n",
       "    </tr>\n",
       "    <tr>\n",
       "      <th>min</th>\n",
       "      <td>1.00000</td>\n",
       "      <td>46.43000</td>\n",
       "      <td>53.040000</td>\n",
       "      <td>3.0</td>\n",
       "    </tr>\n",
       "    <tr>\n",
       "      <th>25%</th>\n",
       "      <td>5.75000</td>\n",
       "      <td>50.00000</td>\n",
       "      <td>56.692500</td>\n",
       "      <td>3.0</td>\n",
       "    </tr>\n",
       "    <tr>\n",
       "      <th>50%</th>\n",
       "      <td>10.50000</td>\n",
       "      <td>51.34000</td>\n",
       "      <td>58.390000</td>\n",
       "      <td>3.0</td>\n",
       "    </tr>\n",
       "    <tr>\n",
       "      <th>75%</th>\n",
       "      <td>15.25000</td>\n",
       "      <td>51.78750</td>\n",
       "      <td>59.110000</td>\n",
       "      <td>3.0</td>\n",
       "    </tr>\n",
       "    <tr>\n",
       "      <th>max</th>\n",
       "      <td>20.00000</td>\n",
       "      <td>53.57000</td>\n",
       "      <td>59.640000</td>\n",
       "      <td>3.0</td>\n",
       "    </tr>\n",
       "  </tbody>\n",
       "</table>\n",
       "</div>"
      ],
      "text/plain": [
       "        k_value       KNN     delKNN  del_num\n",
       "count  20.00000  20.00000  20.000000     20.0\n",
       "mean   10.50000  51.00950  57.669500      3.0\n",
       "std     5.91608   1.64223   1.923389      0.0\n",
       "min     1.00000  46.43000  53.040000      3.0\n",
       "25%     5.75000  50.00000  56.692500      3.0\n",
       "50%    10.50000  51.34000  58.390000      3.0\n",
       "75%    15.25000  51.78750  59.110000      3.0\n",
       "max    20.00000  53.57000  59.640000      3.0"
      ]
     },
     "execution_count": 40,
     "metadata": {},
     "output_type": "execute_result"
    }
   ],
   "source": [
    "part_data_df.describe()"
   ]
  },
  {
   "cell_type": "code",
   "execution_count": 41,
   "metadata": {
    "collapsed": true
   },
   "outputs": [],
   "source": [
    "columns_name_list = ['']"
   ]
  },
  {
   "cell_type": "code",
   "execution_count": null,
   "metadata": {
    "collapsed": true
   },
   "outputs": [],
   "source": []
  },
  {
   "cell_type": "code",
   "execution_count": null,
   "metadata": {
    "collapsed": true
   },
   "outputs": [],
   "source": []
  },
  {
   "cell_type": "code",
   "execution_count": null,
   "metadata": {
    "collapsed": true
   },
   "outputs": [],
   "source": []
  }
 ],
 "metadata": {
  "kernelspec": {
   "display_name": "Python 3",
   "language": "python",
   "name": "python3"
  },
  "language_info": {
   "codemirror_mode": {
    "name": "ipython",
    "version": 3
   },
   "file_extension": ".py",
   "mimetype": "text/x-python",
   "name": "python",
   "nbconvert_exporter": "python",
   "pygments_lexer": "ipython3",
   "version": "3.6.2"
  }
 },
 "nbformat": 4,
 "nbformat_minor": 2
}
