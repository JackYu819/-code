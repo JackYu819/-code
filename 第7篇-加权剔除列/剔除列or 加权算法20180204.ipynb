{
 "cells": [
  {
   "cell_type": "code",
   "execution_count": 1,
   "metadata": {
    "collapsed": true
   },
   "outputs": [],
   "source": [
    "import sys\n",
    "import os\n",
    "import numpy as np\n",
    "import pandas as pd\n",
    "sys.path.append('/Users/yuxiangyu/Documents/毕业论文-20171126/毕业论文code/')\n",
    "from DataAnalysis import DataAnalysis"
   ]
  },
  {
   "cell_type": "code",
   "execution_count": 2,
   "metadata": {
    "collapsed": true
   },
   "outputs": [],
   "source": [
    "stat = DataAnalysis()\n",
    "now_time = stat.get_time()"
   ]
  },
  {
   "cell_type": "code",
   "execution_count": 3,
   "metadata": {
    "collapsed": false
   },
   "outputs": [
    {
     "data": {
      "text/plain": [
       "'20180205135430'"
      ]
     },
     "execution_count": 3,
     "metadata": {},
     "output_type": "execute_result"
    }
   ],
   "source": [
    "# 当前时间\n",
    "now_time"
   ]
  },
  {
   "cell_type": "markdown",
   "metadata": {},
   "source": [
    "## 数据路径"
   ]
  },
  {
   "cell_type": "code",
   "execution_count": 4,
   "metadata": {
    "collapsed": false
   },
   "outputs": [],
   "source": [
    "# 获取数据集路径\n",
    "train_data_path_list = stat.datasets"
   ]
  },
  {
   "cell_type": "code",
   "execution_count": 6,
   "metadata": {
    "collapsed": false,
    "scrolled": true
   },
   "outputs": [
    {
     "name": "stdout",
     "output_type": "stream",
     "text": [
      "0 iris\n",
      "1 new-winequality-white\n",
      "2 new-winequality-red\n",
      "3 new1-new-glass\n",
      "4 seeds_dataset\n",
      "5 new-breast-cancer-wisconsin\n",
      "6 new-win\n",
      "7 new-balance-scale\n",
      "8 new-segmentation\n"
     ]
    }
   ],
   "source": [
    "for ix, tmp_data_path in enumerate(train_data_path_list):\n",
    "    # 获取数据集名称\n",
    "    file_name = tmp_data_path.split('/')[-1].split('.')[0]\n",
    "    print(ix, file_name)"
   ]
  },
  {
   "cell_type": "markdown",
   "metadata": {},
   "source": [
    "### 读取数据"
   ]
  },
  {
   "cell_type": "code",
   "execution_count": 168,
   "metadata": {
    "collapsed": false
   },
   "outputs": [],
   "source": [
    "data_df = stat.open_csv(tmp_data_path)"
   ]
  },
  {
   "cell_type": "code",
   "execution_count": 169,
   "metadata": {
    "collapsed": false
   },
   "outputs": [
    {
     "data": {
      "text/html": [
       "<div>\n",
       "<style scoped>\n",
       "    .dataframe tbody tr th:only-of-type {\n",
       "        vertical-align: middle;\n",
       "    }\n",
       "\n",
       "    .dataframe tbody tr th {\n",
       "        vertical-align: top;\n",
       "    }\n",
       "\n",
       "    .dataframe thead th {\n",
       "        text-align: right;\n",
       "    }\n",
       "</style>\n",
       "<table border=\"1\" class=\"dataframe\">\n",
       "  <thead>\n",
       "    <tr style=\"text-align: right;\">\n",
       "      <th></th>\n",
       "      <th>col_1</th>\n",
       "      <th>col_2</th>\n",
       "      <th>col_3</th>\n",
       "      <th>col_4</th>\n",
       "      <th>col_5</th>\n",
       "      <th>col_6</th>\n",
       "      <th>col_7</th>\n",
       "      <th>col_8</th>\n",
       "      <th>label</th>\n",
       "    </tr>\n",
       "  </thead>\n",
       "  <tbody>\n",
       "    <tr>\n",
       "      <th>col_1</th>\n",
       "      <td>1.000000</td>\n",
       "      <td>-0.273732</td>\n",
       "      <td>0.156794</td>\n",
       "      <td>-0.069809</td>\n",
       "      <td>-0.266087</td>\n",
       "      <td>-0.275442</td>\n",
       "      <td>0.326603</td>\n",
       "      <td>-0.241346</td>\n",
       "      <td>0.502898</td>\n",
       "    </tr>\n",
       "    <tr>\n",
       "      <th>col_2</th>\n",
       "      <td>-0.273732</td>\n",
       "      <td>1.000000</td>\n",
       "      <td>-0.481799</td>\n",
       "      <td>-0.165927</td>\n",
       "      <td>0.005396</td>\n",
       "      <td>-0.443750</td>\n",
       "      <td>-0.492262</td>\n",
       "      <td>0.083060</td>\n",
       "      <td>-0.744993</td>\n",
       "    </tr>\n",
       "    <tr>\n",
       "      <th>col_3</th>\n",
       "      <td>0.156794</td>\n",
       "      <td>-0.481799</td>\n",
       "      <td>1.000000</td>\n",
       "      <td>-0.005524</td>\n",
       "      <td>0.325958</td>\n",
       "      <td>-0.259592</td>\n",
       "      <td>0.479404</td>\n",
       "      <td>-0.074402</td>\n",
       "      <td>0.598829</td>\n",
       "    </tr>\n",
       "    <tr>\n",
       "      <th>col_4</th>\n",
       "      <td>-0.069809</td>\n",
       "      <td>-0.165927</td>\n",
       "      <td>-0.005524</td>\n",
       "      <td>1.000000</td>\n",
       "      <td>-0.193331</td>\n",
       "      <td>-0.208732</td>\n",
       "      <td>-0.102151</td>\n",
       "      <td>-0.094201</td>\n",
       "      <td>0.151565</td>\n",
       "    </tr>\n",
       "    <tr>\n",
       "      <th>col_5</th>\n",
       "      <td>-0.266087</td>\n",
       "      <td>0.005396</td>\n",
       "      <td>0.325958</td>\n",
       "      <td>-0.193331</td>\n",
       "      <td>1.000000</td>\n",
       "      <td>-0.317836</td>\n",
       "      <td>-0.042618</td>\n",
       "      <td>-0.007719</td>\n",
       "      <td>-0.010054</td>\n",
       "    </tr>\n",
       "    <tr>\n",
       "      <th>col_6</th>\n",
       "      <td>-0.275442</td>\n",
       "      <td>-0.443750</td>\n",
       "      <td>-0.259592</td>\n",
       "      <td>-0.208732</td>\n",
       "      <td>-0.317836</td>\n",
       "      <td>1.000000</td>\n",
       "      <td>-0.112841</td>\n",
       "      <td>0.124968</td>\n",
       "      <td>0.000952</td>\n",
       "    </tr>\n",
       "    <tr>\n",
       "      <th>col_7</th>\n",
       "      <td>0.326603</td>\n",
       "      <td>-0.492262</td>\n",
       "      <td>0.479404</td>\n",
       "      <td>-0.102151</td>\n",
       "      <td>-0.042618</td>\n",
       "      <td>-0.112841</td>\n",
       "      <td>1.000000</td>\n",
       "      <td>-0.058692</td>\n",
       "      <td>0.575161</td>\n",
       "    </tr>\n",
       "    <tr>\n",
       "      <th>col_8</th>\n",
       "      <td>-0.241346</td>\n",
       "      <td>0.083060</td>\n",
       "      <td>-0.074402</td>\n",
       "      <td>-0.094201</td>\n",
       "      <td>-0.007719</td>\n",
       "      <td>0.124968</td>\n",
       "      <td>-0.058692</td>\n",
       "      <td>1.000000</td>\n",
       "      <td>-0.188278</td>\n",
       "    </tr>\n",
       "    <tr>\n",
       "      <th>label</th>\n",
       "      <td>0.502898</td>\n",
       "      <td>-0.744993</td>\n",
       "      <td>0.598829</td>\n",
       "      <td>0.151565</td>\n",
       "      <td>-0.010054</td>\n",
       "      <td>0.000952</td>\n",
       "      <td>0.575161</td>\n",
       "      <td>-0.188278</td>\n",
       "      <td>1.000000</td>\n",
       "    </tr>\n",
       "  </tbody>\n",
       "</table>\n",
       "</div>"
      ],
      "text/plain": [
       "          col_1     col_2     col_3     col_4     col_5     col_6     col_7  \\\n",
       "col_1  1.000000 -0.273732  0.156794 -0.069809 -0.266087 -0.275442  0.326603   \n",
       "col_2 -0.273732  1.000000 -0.481799 -0.165927  0.005396 -0.443750 -0.492262   \n",
       "col_3  0.156794 -0.481799  1.000000 -0.005524  0.325958 -0.259592  0.479404   \n",
       "col_4 -0.069809 -0.165927 -0.005524  1.000000 -0.193331 -0.208732 -0.102151   \n",
       "col_5 -0.266087  0.005396  0.325958 -0.193331  1.000000 -0.317836 -0.042618   \n",
       "col_6 -0.275442 -0.443750 -0.259592 -0.208732 -0.317836  1.000000 -0.112841   \n",
       "col_7  0.326603 -0.492262  0.479404 -0.102151 -0.042618 -0.112841  1.000000   \n",
       "col_8 -0.241346  0.083060 -0.074402 -0.094201 -0.007719  0.124968 -0.058692   \n",
       "label  0.502898 -0.744993  0.598829  0.151565 -0.010054  0.000952  0.575161   \n",
       "\n",
       "          col_8     label  \n",
       "col_1 -0.241346  0.502898  \n",
       "col_2  0.083060 -0.744993  \n",
       "col_3 -0.074402  0.598829  \n",
       "col_4 -0.094201  0.151565  \n",
       "col_5 -0.007719 -0.010054  \n",
       "col_6  0.124968  0.000952  \n",
       "col_7 -0.058692  0.575161  \n",
       "col_8  1.000000 -0.188278  \n",
       "label -0.188278  1.000000  "
      ]
     },
     "execution_count": 169,
     "metadata": {},
     "output_type": "execute_result"
    }
   ],
   "source": [
    "# 相关性\n",
    "data_df.corr()"
   ]
  },
  {
   "cell_type": "code",
   "execution_count": 171,
   "metadata": {
    "collapsed": false
   },
   "outputs": [],
   "source": [
    "# 行列数量\n",
    "row_len, col_len = data_df.shape"
   ]
  },
  {
   "cell_type": "markdown",
   "metadata": {},
   "source": [
    "### 训练集和测试集"
   ]
  },
  {
   "cell_type": "code",
   "execution_count": 172,
   "metadata": {
    "collapsed": false
   },
   "outputs": [],
   "source": [
    "train_data, test_data = stat.get_train_test(data_df)"
   ]
  },
  {
   "cell_type": "markdown",
   "metadata": {},
   "source": [
    "### 中心权重 迭代权重求解"
   ]
  },
  {
   "cell_type": "code",
   "execution_count": 175,
   "metadata": {
    "collapsed": true
   },
   "outputs": [],
   "source": [
    "orginal_weight_array = np.array(list([1]* (col_len - 1)))"
   ]
  },
  {
   "cell_type": "code",
   "execution_count": 176,
   "metadata": {
    "collapsed": false
   },
   "outputs": [
    {
     "data": {
      "text/plain": [
       "array([1, 1, 1, 1, 1, 1, 1, 1])"
      ]
     },
     "execution_count": 176,
     "metadata": {},
     "output_type": "execute_result"
    }
   ],
   "source": [
    "orginal_weight_array"
   ]
  },
  {
   "cell_type": "code",
   "execution_count": 244,
   "metadata": {
    "collapsed": false
   },
   "outputs": [],
   "source": [
    "# orginal_weight_array = np.random.random(col_len - 1)\n",
    "orginal_weight_array = orginal_weight_array/sum(orginal_weight_array) # 归一化\n",
    "center_result_df = pd.DataFrame(columns=train_data.columns)\n",
    "iter_center_result_df = pd.DataFrame(columns=train_data.columns)\n",
    "for class_name, values in train_data.groupby('label'):\n",
    "    tmp_class_name_list = values.columns\n",
    "    columns_name_list = [i for i in tmp_class_name_list if 'label' not in i]\n",
    "    tmp_center_mean_list = list(values[columns_name_list].mean())\n",
    "    tmp_center_mean_list.append(class_name)\n",
    "    center_result_df.loc[class_name, :] = tmp_center_mean_list\n",
    "    tmp_result,iter_n = stat.get_weights_iteration(values[columns_name_list], orginal_weight_array, error_param = 1e-4, max_iter= 1000, alpha=0.5)\n",
    "    tmp_result.append(class_name)\n",
    "    iter_center_result_df.loc['{name}:{iter}'.format(name = class_name, iter = iter_n), :] = tmp_result\n",
    "    "
   ]
  },
  {
   "cell_type": "code",
   "execution_count": 245,
   "metadata": {
    "collapsed": false
   },
   "outputs": [
    {
     "data": {
      "text/html": [
       "<div>\n",
       "<style scoped>\n",
       "    .dataframe tbody tr th:only-of-type {\n",
       "        vertical-align: middle;\n",
       "    }\n",
       "\n",
       "    .dataframe tbody tr th {\n",
       "        vertical-align: top;\n",
       "    }\n",
       "\n",
       "    .dataframe thead th {\n",
       "        text-align: right;\n",
       "    }\n",
       "</style>\n",
       "<table border=\"1\" class=\"dataframe\">\n",
       "  <thead>\n",
       "    <tr style=\"text-align: right;\">\n",
       "      <th></th>\n",
       "      <th>col_1</th>\n",
       "      <th>col_2</th>\n",
       "      <th>col_3</th>\n",
       "      <th>col_4</th>\n",
       "      <th>col_5</th>\n",
       "      <th>col_6</th>\n",
       "      <th>col_7</th>\n",
       "      <th>col_8</th>\n",
       "      <th>label</th>\n",
       "    </tr>\n",
       "  </thead>\n",
       "  <tbody>\n",
       "    <tr>\n",
       "      <th>1</th>\n",
       "      <td>13.1312</td>\n",
       "      <td>3.56442</td>\n",
       "      <td>1.18047</td>\n",
       "      <td>72.6579</td>\n",
       "      <td>0.471395</td>\n",
       "      <td>8.82605</td>\n",
       "      <td>0.00465116</td>\n",
       "      <td>0.0493023</td>\n",
       "      <td>1</td>\n",
       "    </tr>\n",
       "    <tr>\n",
       "      <th>2</th>\n",
       "      <td>13.0849</td>\n",
       "      <td>3.014</td>\n",
       "      <td>1.40109</td>\n",
       "      <td>72.6391</td>\n",
       "      <td>0.524364</td>\n",
       "      <td>9.04491</td>\n",
       "      <td>0.0645455</td>\n",
       "      <td>0.0807273</td>\n",
       "      <td>2</td>\n",
       "    </tr>\n",
       "    <tr>\n",
       "      <th>3</th>\n",
       "      <td>13.591</td>\n",
       "      <td>3.538</td>\n",
       "      <td>1.233</td>\n",
       "      <td>72.212</td>\n",
       "      <td>0.428</td>\n",
       "      <td>8.814</td>\n",
       "      <td>0</td>\n",
       "      <td>0.063</td>\n",
       "      <td>3</td>\n",
       "    </tr>\n",
       "    <tr>\n",
       "      <th>5</th>\n",
       "      <td>13.21</td>\n",
       "      <td>0.647143</td>\n",
       "      <td>2.11</td>\n",
       "      <td>72.0757</td>\n",
       "      <td>1.42714</td>\n",
       "      <td>10.0686</td>\n",
       "      <td>0.314286</td>\n",
       "      <td>0</td>\n",
       "      <td>5</td>\n",
       "    </tr>\n",
       "    <tr>\n",
       "      <th>6</th>\n",
       "      <td>14.266</td>\n",
       "      <td>2.002</td>\n",
       "      <td>1.554</td>\n",
       "      <td>72.536</td>\n",
       "      <td>0</td>\n",
       "      <td>9.574</td>\n",
       "      <td>0</td>\n",
       "      <td>0</td>\n",
       "      <td>6</td>\n",
       "    </tr>\n",
       "    <tr>\n",
       "      <th>7</th>\n",
       "      <td>14.3368</td>\n",
       "      <td>0.377895</td>\n",
       "      <td>2.16632</td>\n",
       "      <td>73.0884</td>\n",
       "      <td>0.366842</td>\n",
       "      <td>8.54684</td>\n",
       "      <td>1.04368</td>\n",
       "      <td>0.0157895</td>\n",
       "      <td>7</td>\n",
       "    </tr>\n",
       "  </tbody>\n",
       "</table>\n",
       "</div>"
      ],
      "text/plain": [
       "     col_1     col_2    col_3    col_4     col_5    col_6       col_7  \\\n",
       "1  13.1312   3.56442  1.18047  72.6579  0.471395  8.82605  0.00465116   \n",
       "2  13.0849     3.014  1.40109  72.6391  0.524364  9.04491   0.0645455   \n",
       "3   13.591     3.538    1.233   72.212     0.428    8.814           0   \n",
       "5    13.21  0.647143     2.11  72.0757   1.42714  10.0686    0.314286   \n",
       "6   14.266     2.002    1.554   72.536         0    9.574           0   \n",
       "7  14.3368  0.377895  2.16632  73.0884  0.366842  8.54684     1.04368   \n",
       "\n",
       "       col_8 label  \n",
       "1  0.0493023     1  \n",
       "2  0.0807273     2  \n",
       "3      0.063     3  \n",
       "5          0     5  \n",
       "6          0     6  \n",
       "7  0.0157895     7  "
      ]
     },
     "execution_count": 245,
     "metadata": {},
     "output_type": "execute_result"
    }
   ],
   "source": [
    "# 中心点\n",
    "center_result_df"
   ]
  },
  {
   "cell_type": "code",
   "execution_count": 246,
   "metadata": {
    "collapsed": false
   },
   "outputs": [
    {
     "data": {
      "text/html": [
       "<div>\n",
       "<style scoped>\n",
       "    .dataframe tbody tr th:only-of-type {\n",
       "        vertical-align: middle;\n",
       "    }\n",
       "\n",
       "    .dataframe tbody tr th {\n",
       "        vertical-align: top;\n",
       "    }\n",
       "\n",
       "    .dataframe thead th {\n",
       "        text-align: right;\n",
       "    }\n",
       "</style>\n",
       "<table border=\"1\" class=\"dataframe\">\n",
       "  <thead>\n",
       "    <tr style=\"text-align: right;\">\n",
       "      <th></th>\n",
       "      <th>col_1</th>\n",
       "      <th>col_2</th>\n",
       "      <th>col_3</th>\n",
       "      <th>col_4</th>\n",
       "      <th>col_5</th>\n",
       "      <th>col_6</th>\n",
       "      <th>col_7</th>\n",
       "      <th>col_8</th>\n",
       "      <th>label</th>\n",
       "    </tr>\n",
       "  </thead>\n",
       "  <tbody>\n",
       "    <tr>\n",
       "      <th>1:1001</th>\n",
       "      <td>0.0294118</td>\n",
       "      <td>0.0588235</td>\n",
       "      <td>0.0588235</td>\n",
       "      <td>0.0294118</td>\n",
       "      <td>0.0588235</td>\n",
       "      <td>0.0294118</td>\n",
       "      <td>0.588235</td>\n",
       "      <td>0.147059</td>\n",
       "      <td>1</td>\n",
       "    </tr>\n",
       "    <tr>\n",
       "      <th>2:1001</th>\n",
       "      <td>0.08</td>\n",
       "      <td>0.04</td>\n",
       "      <td>0.16</td>\n",
       "      <td>0.04</td>\n",
       "      <td>0.16</td>\n",
       "      <td>0.02</td>\n",
       "      <td>0.1</td>\n",
       "      <td>0.4</td>\n",
       "      <td>2</td>\n",
       "    </tr>\n",
       "    <tr>\n",
       "      <th>3:67</th>\n",
       "      <td>0.000194951</td>\n",
       "      <td>0.000389902</td>\n",
       "      <td>0.000194951</td>\n",
       "      <td>9.74754e-05</td>\n",
       "      <td>0.000389902</td>\n",
       "      <td>9.74754e-05</td>\n",
       "      <td>0.998148</td>\n",
       "      <td>0.000487377</td>\n",
       "      <td>3</td>\n",
       "    </tr>\n",
       "    <tr>\n",
       "      <th>5:81</th>\n",
       "      <td>9.76169e-05</td>\n",
       "      <td>4.88085e-05</td>\n",
       "      <td>9.76169e-05</td>\n",
       "      <td>4.88085e-05</td>\n",
       "      <td>2.44042e-05</td>\n",
       "      <td>2.44042e-05</td>\n",
       "      <td>6.10106e-05</td>\n",
       "      <td>0.999597</td>\n",
       "      <td>5</td>\n",
       "    </tr>\n",
       "    <tr>\n",
       "      <th>6:43</th>\n",
       "      <td>0.000121951</td>\n",
       "      <td>0.000121951</td>\n",
       "      <td>0.000243902</td>\n",
       "      <td>0.000243902</td>\n",
       "      <td>0.062439</td>\n",
       "      <td>0.000243902</td>\n",
       "      <td>0.312195</td>\n",
       "      <td>0.62439</td>\n",
       "      <td>6</td>\n",
       "    </tr>\n",
       "    <tr>\n",
       "      <th>7:1001</th>\n",
       "      <td>0.036036</td>\n",
       "      <td>0.036036</td>\n",
       "      <td>0.0720721</td>\n",
       "      <td>0.036036</td>\n",
       "      <td>0.036036</td>\n",
       "      <td>0.018018</td>\n",
       "      <td>0.045045</td>\n",
       "      <td>0.720721</td>\n",
       "      <td>7</td>\n",
       "    </tr>\n",
       "  </tbody>\n",
       "</table>\n",
       "</div>"
      ],
      "text/plain": [
       "              col_1        col_2        col_3        col_4        col_5  \\\n",
       "1:1001    0.0294118    0.0588235    0.0588235    0.0294118    0.0588235   \n",
       "2:1001         0.08         0.04         0.16         0.04         0.16   \n",
       "3:67    0.000194951  0.000389902  0.000194951  9.74754e-05  0.000389902   \n",
       "5:81    9.76169e-05  4.88085e-05  9.76169e-05  4.88085e-05  2.44042e-05   \n",
       "6:43    0.000121951  0.000121951  0.000243902  0.000243902     0.062439   \n",
       "7:1001     0.036036     0.036036    0.0720721     0.036036     0.036036   \n",
       "\n",
       "              col_6        col_7        col_8 label  \n",
       "1:1001    0.0294118     0.588235     0.147059     1  \n",
       "2:1001         0.02          0.1          0.4     2  \n",
       "3:67    9.74754e-05     0.998148  0.000487377     3  \n",
       "5:81    2.44042e-05  6.10106e-05     0.999597     5  \n",
       "6:43    0.000243902     0.312195      0.62439     6  \n",
       "7:1001     0.018018     0.045045     0.720721     7  "
      ]
     },
     "execution_count": 246,
     "metadata": {},
     "output_type": "execute_result"
    }
   ],
   "source": [
    "# 迭代后权重\n",
    "iter_center_result_df"
   ]
  },
  {
   "cell_type": "code",
   "execution_count": 247,
   "metadata": {
    "collapsed": false
   },
   "outputs": [],
   "source": [
    "iter_without_label = iter_center_result_df[list(iter_center_result_df.columns)[:-1]]"
   ]
  },
  {
   "cell_type": "code",
   "execution_count": 248,
   "metadata": {
    "collapsed": false
   },
   "outputs": [
    {
     "data": {
      "text/plain": [
       "col_1    0.031679\n",
       "col_2    0.025700\n",
       "col_3    0.063402\n",
       "col_4    0.019477\n",
       "col_5    0.059049\n",
       "col_6    0.012835\n",
       "col_7    0.388769\n",
       "col_8    0.373077\n",
       "dtype: float64"
      ]
     },
     "execution_count": 248,
     "metadata": {},
     "output_type": "execute_result"
    }
   ],
   "source": [
    "iter_without_label.std()"
   ]
  },
  {
   "cell_type": "code",
   "execution_count": 249,
   "metadata": {
    "collapsed": false
   },
   "outputs": [
    {
     "data": {
      "text/plain": [
       "col_1    0.024310\n",
       "col_2    0.022570\n",
       "col_3    0.048572\n",
       "col_4    0.017640\n",
       "col_5    0.052952\n",
       "col_6    0.011299\n",
       "col_7    0.340614\n",
       "col_8    0.482042\n",
       "dtype: float64"
      ]
     },
     "execution_count": 249,
     "metadata": {},
     "output_type": "execute_result"
    }
   ],
   "source": [
    "iter_without_label.mean()"
   ]
  },
  {
   "cell_type": "markdown",
   "metadata": {},
   "source": [
    "## 传统 KNN 算法"
   ]
  },
  {
   "cell_type": "code",
   "execution_count": 250,
   "metadata": {
    "collapsed": true
   },
   "outputs": [],
   "source": [
    "from sklearn import neighbors as knn"
   ]
  },
  {
   "cell_type": "code",
   "execution_count": 251,
   "metadata": {
    "collapsed": true
   },
   "outputs": [],
   "source": [
    "train_array = train_data.drop('label', axis=1)\n",
    "test_array = test_data.drop('label', axis=1)"
   ]
  },
  {
   "cell_type": "code",
   "execution_count": 252,
   "metadata": {
    "collapsed": false
   },
   "outputs": [
    {
     "name": "stdout",
     "output_type": "stream",
     "text": [
      "k值:1, 分类准确率:66.67 %\n",
      "k值:2, 分类准确率:58.67 %\n",
      "k值:3, 分类准确率:56.00 %\n",
      "k值:4, 分类准确率:60.00 %\n",
      "k值:5, 分类准确率:56.00 %\n",
      "k值:6, 分类准确率:50.67 %\n",
      "k值:7, 分类准确率:52.00 %\n",
      "k值:8, 分类准确率:50.67 %\n",
      "k值:9, 分类准确率:50.67 %\n",
      "k值:10, 分类准确率:49.33 %\n",
      "k值:11, 分类准确率:52.00 %\n",
      "k值:12, 分类准确率:52.00 %\n",
      "k值:13, 分类准确率:52.00 %\n",
      "k值:14, 分类准确率:53.33 %\n",
      "k值:15, 分类准确率:52.00 %\n",
      "k值:16, 分类准确率:53.33 %\n",
      "k值:17, 分类准确率:52.00 %\n",
      "k值:18, 分类准确率:50.67 %\n",
      "k值:19, 分类准确率:50.67 %\n",
      "k值:20, 分类准确率:53.33 %\n"
     ]
    }
   ],
   "source": [
    "for k_value in range(1, 21):\n",
    "    clf = knn.KNeighborsClassifier(n_neighbors = k_value, weights = 'uniform')\n",
    "    clf.fit(train_data.drop('label', axis = 1), train_data['label'])\n",
    "    # 预测结果\n",
    "    predict_label_array = clf.predict(test_array)\n",
    "    classic_knn_result = stat.get_accuracy_score(predict_label_array, test_data['label'])\n",
    "    print('k值:{kvalue}, 分类准确率:{re:.2f} %'.format(kvalue = k_value,re = classic_knn_result * 100)) \n",
    "    "
   ]
  },
  {
   "cell_type": "markdown",
   "metadata": {},
   "source": [
    "## 剔除列计算"
   ]
  },
  {
   "cell_type": "code",
   "execution_count": 253,
   "metadata": {
    "collapsed": false
   },
   "outputs": [],
   "source": [
    "tmp_iter_std = iter_without_label.std()"
   ]
  },
  {
   "cell_type": "code",
   "execution_count": 254,
   "metadata": {
    "collapsed": false
   },
   "outputs": [],
   "source": [
    "tmp_iter_std.sort_values(inplace= True)"
   ]
  },
  {
   "cell_type": "code",
   "execution_count": 255,
   "metadata": {
    "collapsed": false
   },
   "outputs": [
    {
     "data": {
      "text/plain": [
       "col_6    0.012835\n",
       "col_4    0.019477\n",
       "col_2    0.025700\n",
       "col_1    0.031679\n",
       "col_5    0.059049\n",
       "col_3    0.063402\n",
       "col_8    0.373077\n",
       "col_7    0.388769\n",
       "dtype: float64"
      ]
     },
     "execution_count": 255,
     "metadata": {},
     "output_type": "execute_result"
    }
   ],
   "source": [
    "tmp_iter_std"
   ]
  },
  {
   "cell_type": "code",
   "execution_count": 256,
   "metadata": {
    "collapsed": true
   },
   "outputs": [],
   "source": [
    "center_result_df = center_result_df[list(center_result_df.columns)[:-1]]"
   ]
  },
  {
   "cell_type": "code",
   "execution_count": 257,
   "metadata": {
    "collapsed": false
   },
   "outputs": [],
   "source": [
    "center_result_df_std = center_result_df.std()"
   ]
  },
  {
   "cell_type": "code",
   "execution_count": 258,
   "metadata": {
    "collapsed": false
   },
   "outputs": [],
   "source": [
    "center_result_df_std.sort_values(inplace= True)"
   ]
  },
  {
   "cell_type": "code",
   "execution_count": 259,
   "metadata": {
    "collapsed": false
   },
   "outputs": [
    {
     "data": {
      "text/plain": [
       "col_8    0.034346\n",
       "col_4    0.359858\n",
       "col_7    0.412982\n",
       "col_3    0.431939\n",
       "col_5    0.474556\n",
       "col_6    0.568529\n",
       "col_1    0.569866\n",
       "col_2    1.420182\n",
       "dtype: float64"
      ]
     },
     "execution_count": 259,
     "metadata": {},
     "output_type": "execute_result"
    }
   ],
   "source": [
    "center_result_df_std"
   ]
  },
  {
   "cell_type": "code",
   "execution_count": 260,
   "metadata": {
    "collapsed": true
   },
   "outputs": [],
   "source": [
    "# del_col = ['col_4','col_6', 'col_7'] # wine\n",
    "del_col = list(tmp_iter_std.iloc[:2].index)"
   ]
  },
  {
   "cell_type": "code",
   "execution_count": 261,
   "metadata": {
    "collapsed": false
   },
   "outputs": [
    {
     "data": {
      "text/plain": [
       "['col_6', 'col_4']"
      ]
     },
     "execution_count": 261,
     "metadata": {},
     "output_type": "execute_result"
    }
   ],
   "source": [
    "del_col"
   ]
  },
  {
   "cell_type": "code",
   "execution_count": 262,
   "metadata": {
    "collapsed": true
   },
   "outputs": [],
   "source": [
    "# 基于中心结果删除\n",
    "# del_col = list(center_result_df_std.iloc[:3].index)"
   ]
  },
  {
   "cell_type": "code",
   "execution_count": 263,
   "metadata": {
    "collapsed": false
   },
   "outputs": [],
   "source": [
    "del_train_data = train_data.drop(del_col, axis=1)\n",
    "del_test_data = test_data.drop(del_col, axis=1)"
   ]
  },
  {
   "cell_type": "code",
   "execution_count": 264,
   "metadata": {
    "collapsed": false,
    "scrolled": false
   },
   "outputs": [
    {
     "data": {
      "text/html": [
       "<div>\n",
       "<style scoped>\n",
       "    .dataframe tbody tr th:only-of-type {\n",
       "        vertical-align: middle;\n",
       "    }\n",
       "\n",
       "    .dataframe tbody tr th {\n",
       "        vertical-align: top;\n",
       "    }\n",
       "\n",
       "    .dataframe thead th {\n",
       "        text-align: right;\n",
       "    }\n",
       "</style>\n",
       "<table border=\"1\" class=\"dataframe\">\n",
       "  <thead>\n",
       "    <tr style=\"text-align: right;\">\n",
       "      <th></th>\n",
       "      <th>col_1</th>\n",
       "      <th>col_2</th>\n",
       "      <th>col_3</th>\n",
       "      <th>col_5</th>\n",
       "      <th>col_7</th>\n",
       "      <th>col_8</th>\n",
       "      <th>label</th>\n",
       "    </tr>\n",
       "  </thead>\n",
       "  <tbody>\n",
       "    <tr>\n",
       "      <th>136</th>\n",
       "      <td>13.00</td>\n",
       "      <td>3.80</td>\n",
       "      <td>1.08</td>\n",
       "      <td>0.56</td>\n",
       "      <td>0.00</td>\n",
       "      <td>0.12</td>\n",
       "      <td>2</td>\n",
       "    </tr>\n",
       "    <tr>\n",
       "      <th>206</th>\n",
       "      <td>14.94</td>\n",
       "      <td>0.00</td>\n",
       "      <td>1.87</td>\n",
       "      <td>0.00</td>\n",
       "      <td>1.38</td>\n",
       "      <td>0.00</td>\n",
       "      <td>7</td>\n",
       "    </tr>\n",
       "    <tr>\n",
       "      <th>75</th>\n",
       "      <td>13.02</td>\n",
       "      <td>3.58</td>\n",
       "      <td>1.51</td>\n",
       "      <td>0.69</td>\n",
       "      <td>0.00</td>\n",
       "      <td>0.00</td>\n",
       "      <td>2</td>\n",
       "    </tr>\n",
       "  </tbody>\n",
       "</table>\n",
       "</div>"
      ],
      "text/plain": [
       "     col_1  col_2  col_3  col_5  col_7  col_8  label\n",
       "136  13.00   3.80   1.08   0.56   0.00   0.12      2\n",
       "206  14.94   0.00   1.87   0.00   1.38   0.00      7\n",
       "75   13.02   3.58   1.51   0.69   0.00   0.00      2"
      ]
     },
     "execution_count": 264,
     "metadata": {},
     "output_type": "execute_result"
    }
   ],
   "source": [
    "del_train_data.head(3)"
   ]
  },
  {
   "cell_type": "code",
   "execution_count": 265,
   "metadata": {
    "collapsed": false
   },
   "outputs": [
    {
     "data": {
      "text/plain": [
       "1:1001    0.058824\n",
       "2:1001    0.060000\n",
       "3:67      0.000195\n",
       "5:81      0.000073\n",
       "6:43      0.000488\n",
       "7:1001    0.054054\n",
       "dtype: float64"
      ]
     },
     "execution_count": 265,
     "metadata": {},
     "output_type": "execute_result"
    }
   ],
   "source": [
    "(iter_center_result_df.T).loc[del_col].sum()"
   ]
  },
  {
   "cell_type": "code",
   "execution_count": 266,
   "metadata": {
    "collapsed": false
   },
   "outputs": [
    {
     "data": {
      "text/html": [
       "<div>\n",
       "<style scoped>\n",
       "    .dataframe tbody tr th:only-of-type {\n",
       "        vertical-align: middle;\n",
       "    }\n",
       "\n",
       "    .dataframe tbody tr th {\n",
       "        vertical-align: top;\n",
       "    }\n",
       "\n",
       "    .dataframe thead th {\n",
       "        text-align: right;\n",
       "    }\n",
       "</style>\n",
       "<table border=\"1\" class=\"dataframe\">\n",
       "  <thead>\n",
       "    <tr style=\"text-align: right;\">\n",
       "      <th></th>\n",
       "      <th>col_1</th>\n",
       "      <th>col_2</th>\n",
       "      <th>col_3</th>\n",
       "      <th>col_5</th>\n",
       "      <th>col_7</th>\n",
       "      <th>col_8</th>\n",
       "      <th>label</th>\n",
       "    </tr>\n",
       "  </thead>\n",
       "  <tbody>\n",
       "    <tr>\n",
       "      <th>161</th>\n",
       "      <td>13.64</td>\n",
       "      <td>3.54</td>\n",
       "      <td>0.75</td>\n",
       "      <td>0.16</td>\n",
       "      <td>0.15</td>\n",
       "      <td>0.24</td>\n",
       "      <td>3</td>\n",
       "    </tr>\n",
       "    <tr>\n",
       "      <th>120</th>\n",
       "      <td>13.25</td>\n",
       "      <td>3.76</td>\n",
       "      <td>1.32</td>\n",
       "      <td>0.58</td>\n",
       "      <td>0.00</td>\n",
       "      <td>0.00</td>\n",
       "      <td>2</td>\n",
       "    </tr>\n",
       "    <tr>\n",
       "      <th>105</th>\n",
       "      <td>11.45</td>\n",
       "      <td>0.00</td>\n",
       "      <td>1.88</td>\n",
       "      <td>0.81</td>\n",
       "      <td>0.00</td>\n",
       "      <td>0.34</td>\n",
       "      <td>2</td>\n",
       "    </tr>\n",
       "  </tbody>\n",
       "</table>\n",
       "</div>"
      ],
      "text/plain": [
       "     col_1  col_2  col_3  col_5  col_7  col_8  label\n",
       "161  13.64   3.54   0.75   0.16   0.15   0.24      3\n",
       "120  13.25   3.76   1.32   0.58   0.00   0.00      2\n",
       "105  11.45   0.00   1.88   0.81   0.00   0.34      2"
      ]
     },
     "execution_count": 266,
     "metadata": {},
     "output_type": "execute_result"
    }
   ],
   "source": [
    "del_test_data.head(3)"
   ]
  },
  {
   "cell_type": "code",
   "execution_count": 267,
   "metadata": {
    "collapsed": false
   },
   "outputs": [
    {
     "name": "stdout",
     "output_type": "stream",
     "text": [
      "del_k 值:1, 分类准确率:53.33 %\n",
      "del_k 值:2, 分类准确率:54.67 %\n",
      "del_k 值:3, 分类准确率:48.00 %\n",
      "del_k 值:4, 分类准确率:52.00 %\n",
      "del_k 值:5, 分类准确率:52.00 %\n",
      "del_k 值:6, 分类准确率:56.00 %\n",
      "del_k 值:7, 分类准确率:54.67 %\n",
      "del_k 值:8, 分类准确率:54.67 %\n",
      "del_k 值:9, 分类准确率:52.00 %\n",
      "del_k 值:10, 分类准确率:56.00 %\n",
      "del_k 值:11, 分类准确率:58.67 %\n",
      "del_k 值:12, 分类准确率:60.00 %\n",
      "del_k 值:13, 分类准确率:58.67 %\n",
      "del_k 值:14, 分类准确率:60.00 %\n",
      "del_k 值:15, 分类准确率:60.00 %\n",
      "del_k 值:16, 分类准确率:57.33 %\n",
      "del_k 值:17, 分类准确率:56.00 %\n",
      "del_k 值:18, 分类准确率:58.67 %\n",
      "del_k 值:19, 分类准确率:53.33 %\n",
      "del_k 值:20, 分类准确率:50.67 %\n"
     ]
    }
   ],
   "source": [
    "for del_k_value in range(1, 21):\n",
    "    del_clf = knn.KNeighborsClassifier(n_neighbors = del_k_value, weights = 'uniform')\n",
    "    del_clf.fit(del_train_data.drop('label', axis = 1), del_train_data['label'])\n",
    "    # 预测结果\n",
    "    del_predict_label_array = del_clf.predict(del_test_data.drop('label', axis=1))\n",
    "    del_classic_knn_result = stat.get_accuracy_score(del_predict_label_array, del_test_data['label'])\n",
    "    print('del_k 值:{kvalue}, 分类准确率:{re:.2f} %'.format(kvalue = del_k_value,re = del_classic_knn_result * 100)) \n",
    "    "
   ]
  },
  {
   "cell_type": "code",
   "execution_count": null,
   "metadata": {
    "collapsed": true
   },
   "outputs": [],
   "source": []
  },
  {
   "cell_type": "code",
   "execution_count": null,
   "metadata": {
    "collapsed": true
   },
   "outputs": [],
   "source": []
  },
  {
   "cell_type": "code",
   "execution_count": null,
   "metadata": {
    "collapsed": true
   },
   "outputs": [],
   "source": []
  },
  {
   "cell_type": "code",
   "execution_count": null,
   "metadata": {
    "collapsed": true
   },
   "outputs": [],
   "source": []
  },
  {
   "cell_type": "code",
   "execution_count": null,
   "metadata": {
    "collapsed": true
   },
   "outputs": [],
   "source": []
  },
  {
   "cell_type": "code",
   "execution_count": null,
   "metadata": {
    "collapsed": true
   },
   "outputs": [],
   "source": []
  },
  {
   "cell_type": "code",
   "execution_count": null,
   "metadata": {
    "collapsed": true
   },
   "outputs": [],
   "source": []
  }
 ],
 "metadata": {
  "kernelspec": {
   "display_name": "Python 3",
   "language": "python",
   "name": "python3"
  },
  "language_info": {
   "codemirror_mode": {
    "name": "ipython",
    "version": 3
   },
   "file_extension": ".py",
   "mimetype": "text/x-python",
   "name": "python",
   "nbconvert_exporter": "python",
   "pygments_lexer": "ipython3",
   "version": "3.6.2"
  }
 },
 "nbformat": 4,
 "nbformat_minor": 2
}
