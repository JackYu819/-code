{
 "cells": [
  {
   "cell_type": "code",
   "execution_count": 1,
   "metadata": {
    "collapsed": true
   },
   "outputs": [],
   "source": [
    "import sys\n",
    "import os\n",
    "import numpy as np\n",
    "import pandas as pd\n",
    "sys.path.append('/Users/yuxiangyu/Documents/毕业论文-20171126/毕业论文code/')\n",
    "from DataAnalysis import DataAnalysis\n",
    "from sklearn import neighbors as knn\n",
    "# 基本处理\n",
    "stat = DataAnalysis()\n",
    "now_time = stat.get_time()"
   ]
  },
  {
   "cell_type": "code",
   "execution_count": 2,
   "metadata": {
    "collapsed": true
   },
   "outputs": [],
   "source": [
    "# 获取数据集路径\n",
    "train_data_path_list = stat.datasets"
   ]
  },
  {
   "cell_type": "code",
   "execution_count": 3,
   "metadata": {
    "collapsed": true
   },
   "outputs": [],
   "source": [
    "    save_columns_name_list = ['k_value', 'KNN', 'delKNN', 'del_num', 'pre_del_num','del_attr', 'data']\n"
   ]
  },
  {
   "cell_type": "code",
   "execution_count": 126,
   "metadata": {
    "collapsed": false
   },
   "outputs": [],
   "source": [
    "for ix, tmp_data_path in enumerate(train_data_path_list[1:2]):\n",
    "    last_result_df = pd.DataFrame(columns=save_columns_name_list)\n",
    "    file_name = tmp_data_path.split('/')[-1].split('.')[0]\n",
    "    # 读取数据\n",
    "    data_df = stat.open_csv(tmp_data_path)\n",
    "\n",
    "    # 行列数量\n",
    "    row_len, col_len = data_df.shape\n",
    "    # 生成相等权重的数组\n",
    "    orginal_weight_array = np.array(list([1]* (col_len - 1)))\n",
    "    orginal_weight_array = orginal_weight_array / sum(orginal_weight_array) \n",
    "    # 获取训练集和测试集\n",
    "    train_data, test_data = stat.get_train_test(data_df)\n",
    "\n",
    "    # 传统 KNN 算法\n",
    "    train_array = train_data.drop('label', axis=1)\n",
    "    test_array = test_data.drop('label', axis=1)\n",
    "    for k_value in range(1, 21):\n",
    "        clf = knn.KNeighborsClassifier(n_neighbors = k_value, weights = 'uniform')\n",
    "        clf.fit(train_data.drop('label', axis = 1), train_data['label'])\n",
    "        # 预测结果\n",
    "        predict_label_array = clf.predict(test_array)\n",
    "        classic_knn_result = stat.get_accuracy_score(predict_label_array, test_data['label'])\n",
    "#         print('k值:{kvalue}, 分类准确率:{re:.2f} %'.format(kvalue = k_value,re = classic_knn_result * 100)) \n",
    "        last_result_df.loc['{data}:{k}'.format(data = file_name, k = k_value), 'k_value'] = k_value\n",
    "        last_result_df.loc['{data}:{k}'.format(data = file_name, k = k_value), 'KNN'] = round(classic_knn_result * 100,2)\n",
    "        last_result_df.loc['{data}:{k}'.format(data = file_name, k = k_value), 'data'] = file_name\n",
    " \n",
    "    center_result_df = pd.DataFrame(columns=train_data.columns)\n",
    "    iter_center_result_df = pd.DataFrame(columns=train_data.columns)"
   ]
  },
  {
   "cell_type": "code",
   "execution_count": 127,
   "metadata": {
    "collapsed": true
   },
   "outputs": [],
   "source": [
    "for class_name, values in train_data.groupby('label'):\n",
    "    tmp_class_name_list = values.columns\n",
    "    columns_name_list = [i for i in tmp_class_name_list if 'label' not in i]\n",
    "    tmp_center_mean_list = list(values[columns_name_list].mean())\n",
    "    tmp_center_mean_list.append(class_name)\n",
    "    center_result_df.loc[class_name, :] = tmp_center_mean_list\n",
    "    tmp_result,iter_n = stat.get_weights_iteration(values[columns_name_list], orginal_weight_array, error_param = 1e-4, max_iter= 10000, alpha=0.02)\n",
    "    tmp_result.append(class_name)\n",
    "    iter_center_result_df.loc['{name}:{iter}'.format(name = class_name, iter = iter_n), :] = tmp_result\n",
    "iter_without_label = iter_center_result_df[list(iter_center_result_df.columns)[:-1]]\n",
    "tmp_iter_std = iter_without_label.std()\n",
    "tmp_iter_std.sort_values(inplace= True)"
   ]
  },
  {
   "cell_type": "code",
   "execution_count": 128,
   "metadata": {
    "collapsed": false
   },
   "outputs": [
    {
     "data": {
      "text/html": [
       "<div>\n",
       "<style scoped>\n",
       "    .dataframe tbody tr th:only-of-type {\n",
       "        vertical-align: middle;\n",
       "    }\n",
       "\n",
       "    .dataframe tbody tr th {\n",
       "        vertical-align: top;\n",
       "    }\n",
       "\n",
       "    .dataframe thead th {\n",
       "        text-align: right;\n",
       "    }\n",
       "</style>\n",
       "<table border=\"1\" class=\"dataframe\">\n",
       "  <thead>\n",
       "    <tr style=\"text-align: right;\">\n",
       "      <th></th>\n",
       "      <th>col_1</th>\n",
       "      <th>col_2</th>\n",
       "      <th>col_3</th>\n",
       "      <th>col_4</th>\n",
       "      <th>col_5</th>\n",
       "      <th>col_6</th>\n",
       "      <th>col_7</th>\n",
       "      <th>col_8</th>\n",
       "      <th>col_9</th>\n",
       "      <th>col_10</th>\n",
       "      <th>col_11</th>\n",
       "    </tr>\n",
       "  </thead>\n",
       "  <tbody>\n",
       "    <tr>\n",
       "      <th>3:10001</th>\n",
       "      <td>0.00943037</td>\n",
       "      <td>0.00943037</td>\n",
       "      <td>0.00943037</td>\n",
       "      <td>0.000188607</td>\n",
       "      <td>0.471518</td>\n",
       "      <td>0.000188607</td>\n",
       "      <td>3.77215e-06</td>\n",
       "      <td>0.471518</td>\n",
       "      <td>0.00943037</td>\n",
       "      <td>0.00943037</td>\n",
       "      <td>0.00943037</td>\n",
       "    </tr>\n",
       "    <tr>\n",
       "      <th>4:10001</th>\n",
       "      <td>0.000356633</td>\n",
       "      <td>0.0178317</td>\n",
       "      <td>0.0178317</td>\n",
       "      <td>0.000356633</td>\n",
       "      <td>0.0178317</td>\n",
       "      <td>0.000356633</td>\n",
       "      <td>0.000356633</td>\n",
       "      <td>0.891583</td>\n",
       "      <td>0.0178317</td>\n",
       "      <td>0.0178317</td>\n",
       "      <td>0.0178317</td>\n",
       "    </tr>\n",
       "    <tr>\n",
       "      <th>5:10001</th>\n",
       "      <td>0.0178379</td>\n",
       "      <td>0.0178379</td>\n",
       "      <td>0.0178379</td>\n",
       "      <td>0.000356758</td>\n",
       "      <td>0.0178379</td>\n",
       "      <td>0.000356758</td>\n",
       "      <td>7.13516e-06</td>\n",
       "      <td>0.891895</td>\n",
       "      <td>0.0178379</td>\n",
       "      <td>0.0178379</td>\n",
       "      <td>0.000356758</td>\n",
       "    </tr>\n",
       "    <tr>\n",
       "      <th>6:10001</th>\n",
       "      <td>0.000363106</td>\n",
       "      <td>0.0181553</td>\n",
       "      <td>0.0181553</td>\n",
       "      <td>0.000363106</td>\n",
       "      <td>0.0181553</td>\n",
       "      <td>0.000363106</td>\n",
       "      <td>7.26211e-06</td>\n",
       "      <td>0.907764</td>\n",
       "      <td>0.0181553</td>\n",
       "      <td>0.0181553</td>\n",
       "      <td>0.000363106</td>\n",
       "    </tr>\n",
       "    <tr>\n",
       "      <th>7:10001</th>\n",
       "      <td>0.000363235</td>\n",
       "      <td>0.0181617</td>\n",
       "      <td>0.0181617</td>\n",
       "      <td>0.000363235</td>\n",
       "      <td>0.0181617</td>\n",
       "      <td>7.2647e-06</td>\n",
       "      <td>7.2647e-06</td>\n",
       "      <td>0.908087</td>\n",
       "      <td>0.0181617</td>\n",
       "      <td>0.0181617</td>\n",
       "      <td>0.000363235</td>\n",
       "    </tr>\n",
       "    <tr>\n",
       "      <th>8:10001</th>\n",
       "      <td>0.000369817</td>\n",
       "      <td>0.0184909</td>\n",
       "      <td>0.0184909</td>\n",
       "      <td>0.000369817</td>\n",
       "      <td>0.0184909</td>\n",
       "      <td>7.39634e-06</td>\n",
       "      <td>7.39634e-06</td>\n",
       "      <td>0.924543</td>\n",
       "      <td>0.000369817</td>\n",
       "      <td>0.0184909</td>\n",
       "      <td>0.000369817</td>\n",
       "    </tr>\n",
       "    <tr>\n",
       "      <th>9:10001</th>\n",
       "      <td>0.000376642</td>\n",
       "      <td>0.0188321</td>\n",
       "      <td>0.0188321</td>\n",
       "      <td>0.000376642</td>\n",
       "      <td>0.0188321</td>\n",
       "      <td>7.53284e-06</td>\n",
       "      <td>7.53284e-06</td>\n",
       "      <td>0.941605</td>\n",
       "      <td>0.000376642</td>\n",
       "      <td>0.000376642</td>\n",
       "      <td>0.000376642</td>\n",
       "    </tr>\n",
       "  </tbody>\n",
       "</table>\n",
       "</div>"
      ],
      "text/plain": [
       "               col_1       col_2       col_3        col_4      col_5  \\\n",
       "3:10001   0.00943037  0.00943037  0.00943037  0.000188607   0.471518   \n",
       "4:10001  0.000356633   0.0178317   0.0178317  0.000356633  0.0178317   \n",
       "5:10001    0.0178379   0.0178379   0.0178379  0.000356758  0.0178379   \n",
       "6:10001  0.000363106   0.0181553   0.0181553  0.000363106  0.0181553   \n",
       "7:10001  0.000363235   0.0181617   0.0181617  0.000363235  0.0181617   \n",
       "8:10001  0.000369817   0.0184909   0.0184909  0.000369817  0.0184909   \n",
       "9:10001  0.000376642   0.0188321   0.0188321  0.000376642  0.0188321   \n",
       "\n",
       "               col_6        col_7     col_8        col_9       col_10  \\\n",
       "3:10001  0.000188607  3.77215e-06  0.471518   0.00943037   0.00943037   \n",
       "4:10001  0.000356633  0.000356633  0.891583    0.0178317    0.0178317   \n",
       "5:10001  0.000356758  7.13516e-06  0.891895    0.0178379    0.0178379   \n",
       "6:10001  0.000363106  7.26211e-06  0.907764    0.0181553    0.0181553   \n",
       "7:10001   7.2647e-06   7.2647e-06  0.908087    0.0181617    0.0181617   \n",
       "8:10001  7.39634e-06  7.39634e-06  0.924543  0.000369817    0.0184909   \n",
       "9:10001  7.53284e-06  7.53284e-06  0.941605  0.000376642  0.000376642   \n",
       "\n",
       "              col_11  \n",
       "3:10001   0.00943037  \n",
       "4:10001    0.0178317  \n",
       "5:10001  0.000356758  \n",
       "6:10001  0.000363106  \n",
       "7:10001  0.000363235  \n",
       "8:10001  0.000369817  \n",
       "9:10001  0.000376642  "
      ]
     },
     "execution_count": 128,
     "metadata": {},
     "output_type": "execute_result"
    }
   ],
   "source": [
    "iter_without_label"
   ]
  },
  {
   "cell_type": "code",
   "execution_count": 129,
   "metadata": {
    "collapsed": false
   },
   "outputs": [],
   "source": [
    "iter_mean_value = iter_without_label.mean()"
   ]
  },
  {
   "cell_type": "code",
   "execution_count": 130,
   "metadata": {
    "collapsed": false
   },
   "outputs": [],
   "source": [
    "iter_mean_value.sort_values(ascending=False, inplace=True)"
   ]
  },
  {
   "cell_type": "code",
   "execution_count": 131,
   "metadata": {
    "collapsed": false
   },
   "outputs": [
    {
     "data": {
      "text/plain": [
       "col_8     0.848142\n",
       "col_5     0.931118\n",
       "col_3     0.948081\n",
       "col_2     0.965043\n",
       "col_10    0.979370\n",
       "col_9     0.991107\n",
       "col_1     0.995264\n",
       "col_11    0.999420\n",
       "col_4     0.999759\n",
       "col_6     0.999943\n",
       "col_7     1.000000\n",
       "dtype: float64"
      ]
     },
     "execution_count": 131,
     "metadata": {},
     "output_type": "execute_result"
    }
   ],
   "source": [
    "iter_mean_value.cumsum()"
   ]
  },
  {
   "cell_type": "code",
   "execution_count": 163,
   "metadata": {
    "collapsed": false
   },
   "outputs": [],
   "source": [
    "# 贡献较低的数据\n",
    "iter_left_series = iter_mean_value.loc[iter_mean_value.cumsum() >= 0.995]"
   ]
  },
  {
   "cell_type": "code",
   "execution_count": 164,
   "metadata": {
    "collapsed": false
   },
   "outputs": [],
   "source": [
    "# 欲删除个数\n",
    "prepare_del_num = len(iter_left_series)"
   ]
  },
  {
   "cell_type": "code",
   "execution_count": 165,
   "metadata": {
    "collapsed": false
   },
   "outputs": [
    {
     "data": {
      "text/plain": [
       "5"
      ]
     },
     "execution_count": 165,
     "metadata": {},
     "output_type": "execute_result"
    }
   ],
   "source": [
    "prepare_del_num"
   ]
  },
  {
   "cell_type": "code",
   "execution_count": 166,
   "metadata": {
    "collapsed": false,
    "scrolled": true
   },
   "outputs": [
    {
     "data": {
      "text/plain": [
       "col_4     0.000067\n",
       "col_7     0.000132\n",
       "col_6     0.000176\n",
       "col_2     0.003340\n",
       "col_3     0.003340\n",
       "col_11    0.006912\n",
       "col_1     0.006914\n",
       "col_10    0.006951\n",
       "col_9     0.008371\n",
       "col_8     0.167017\n",
       "col_5     0.171332\n",
       "dtype: float64"
      ]
     },
     "execution_count": 166,
     "metadata": {},
     "output_type": "execute_result"
    }
   ],
   "source": [
    "tmp_iter_std"
   ]
  },
  {
   "cell_type": "code",
   "execution_count": 167,
   "metadata": {
    "collapsed": false
   },
   "outputs": [],
   "source": [
    "# 求交集\n",
    "del_col = list(tmp_iter_std.iloc[:prepare_del_num].index & iter_left_series.index)"
   ]
  },
  {
   "cell_type": "code",
   "execution_count": 168,
   "metadata": {
    "collapsed": false
   },
   "outputs": [
    {
     "data": {
      "text/plain": [
       "['col_4', 'col_7', 'col_6']"
      ]
     },
     "execution_count": 168,
     "metadata": {},
     "output_type": "execute_result"
    }
   ],
   "source": [
    "del_col"
   ]
  },
  {
   "cell_type": "code",
   "execution_count": 169,
   "metadata": {
    "collapsed": true
   },
   "outputs": [],
   "source": [
    "# del_col = list(tmp_iter_std.iloc[:2].index)"
   ]
  },
  {
   "cell_type": "code",
   "execution_count": 170,
   "metadata": {
    "collapsed": false
   },
   "outputs": [],
   "source": [
    "# del_col = del_col[:1]"
   ]
  },
  {
   "cell_type": "code",
   "execution_count": 171,
   "metadata": {
    "collapsed": true
   },
   "outputs": [],
   "source": [
    "# 删除个数\n",
    "del_len = len(del_col)"
   ]
  },
  {
   "cell_type": "code",
   "execution_count": 172,
   "metadata": {
    "collapsed": false
   },
   "outputs": [],
   "source": [
    "del_train_data = train_data.drop(del_col, axis=1)\n",
    "del_test_data = test_data.drop(del_col, axis=1)\n",
    "for del_k_value in range(1, 21):\n",
    "    del_clf = knn.KNeighborsClassifier(n_neighbors = del_k_value, weights = 'uniform')\n",
    "    del_clf.fit(del_train_data.drop('label', axis = 1), del_train_data['label'])\n",
    "    # 预测结果\n",
    "    del_predict_label_array = del_clf.predict(del_test_data.drop('label', axis=1))\n",
    "    del_classic_knn_result = stat.get_accuracy_score(del_predict_label_array, del_test_data['label'])\n",
    "#     print('del_k 值:{kvalue}, 分类准确率:{re:.2f} %'.format(kvalue = del_k_value,re = del_classic_knn_result * 100)) \n",
    "    \n",
    "    last_result_df.loc['{data}:{k}'.format(data = file_name, k = del_k_value), 'delKNN'] = round(del_classic_knn_result * 100,2)\n",
    "    last_result_df.loc['{data}:{k}'.format(data = file_name, k = del_k_value), 'del_attr'] = del_col\n",
    "    last_result_df.loc['{data}:{k}'.format(data = file_name, k = del_k_value), 'del_num'] = del_len\n",
    "\n",
    "    "
   ]
  },
  {
   "cell_type": "code",
   "execution_count": 173,
   "metadata": {
    "collapsed": false
   },
   "outputs": [],
   "source": [
    "# last_result_df.to_excel('result_segmentation.xls')"
   ]
  },
  {
   "cell_type": "code",
   "execution_count": 174,
   "metadata": {
    "collapsed": false
   },
   "outputs": [
    {
     "data": {
      "text/html": [
       "<div>\n",
       "<style scoped>\n",
       "    .dataframe tbody tr th:only-of-type {\n",
       "        vertical-align: middle;\n",
       "    }\n",
       "\n",
       "    .dataframe tbody tr th {\n",
       "        vertical-align: top;\n",
       "    }\n",
       "\n",
       "    .dataframe thead th {\n",
       "        text-align: right;\n",
       "    }\n",
       "</style>\n",
       "<table border=\"1\" class=\"dataframe\">\n",
       "  <thead>\n",
       "    <tr style=\"text-align: right;\">\n",
       "      <th></th>\n",
       "      <th>k_value</th>\n",
       "      <th>KNN</th>\n",
       "      <th>delKNN</th>\n",
       "      <th>del_num</th>\n",
       "      <th>del_attr</th>\n",
       "      <th>data</th>\n",
       "    </tr>\n",
       "  </thead>\n",
       "  <tbody>\n",
       "    <tr>\n",
       "      <th>new-winequality-white:1</th>\n",
       "      <td>1</td>\n",
       "      <td>55.51</td>\n",
       "      <td>59.65</td>\n",
       "      <td>3</td>\n",
       "      <td>[col_4, col_7, col_6]</td>\n",
       "      <td>new-winequality-white</td>\n",
       "    </tr>\n",
       "    <tr>\n",
       "      <th>new-winequality-white:2</th>\n",
       "      <td>2</td>\n",
       "      <td>47.76</td>\n",
       "      <td>55.1</td>\n",
       "      <td>3</td>\n",
       "      <td>[col_4, col_7, col_6]</td>\n",
       "      <td>new-winequality-white</td>\n",
       "    </tr>\n",
       "    <tr>\n",
       "      <th>new-winequality-white:3</th>\n",
       "      <td>3</td>\n",
       "      <td>46.47</td>\n",
       "      <td>53.59</td>\n",
       "      <td>3</td>\n",
       "      <td>[col_4, col_7, col_6]</td>\n",
       "      <td>new-winequality-white</td>\n",
       "    </tr>\n",
       "    <tr>\n",
       "      <th>new-winequality-white:4</th>\n",
       "      <td>4</td>\n",
       "      <td>45.83</td>\n",
       "      <td>54.11</td>\n",
       "      <td>3</td>\n",
       "      <td>[col_4, col_7, col_6]</td>\n",
       "      <td>new-winequality-white</td>\n",
       "    </tr>\n",
       "    <tr>\n",
       "      <th>new-winequality-white:5</th>\n",
       "      <td>5</td>\n",
       "      <td>48.1</td>\n",
       "      <td>52.94</td>\n",
       "      <td>3</td>\n",
       "      <td>[col_4, col_7, col_6]</td>\n",
       "      <td>new-winequality-white</td>\n",
       "    </tr>\n",
       "    <tr>\n",
       "      <th>new-winequality-white:6</th>\n",
       "      <td>6</td>\n",
       "      <td>46.59</td>\n",
       "      <td>52.3</td>\n",
       "      <td>3</td>\n",
       "      <td>[col_4, col_7, col_6]</td>\n",
       "      <td>new-winequality-white</td>\n",
       "    </tr>\n",
       "    <tr>\n",
       "      <th>new-winequality-white:7</th>\n",
       "      <td>7</td>\n",
       "      <td>45.07</td>\n",
       "      <td>51.72</td>\n",
       "      <td>3</td>\n",
       "      <td>[col_4, col_7, col_6]</td>\n",
       "      <td>new-winequality-white</td>\n",
       "    </tr>\n",
       "    <tr>\n",
       "      <th>new-winequality-white:8</th>\n",
       "      <td>8</td>\n",
       "      <td>46.53</td>\n",
       "      <td>53.06</td>\n",
       "      <td>3</td>\n",
       "      <td>[col_4, col_7, col_6]</td>\n",
       "      <td>new-winequality-white</td>\n",
       "    </tr>\n",
       "    <tr>\n",
       "      <th>new-winequality-white:9</th>\n",
       "      <td>9</td>\n",
       "      <td>44.78</td>\n",
       "      <td>52.59</td>\n",
       "      <td>3</td>\n",
       "      <td>[col_4, col_7, col_6]</td>\n",
       "      <td>new-winequality-white</td>\n",
       "    </tr>\n",
       "    <tr>\n",
       "      <th>new-winequality-white:10</th>\n",
       "      <td>10</td>\n",
       "      <td>45.07</td>\n",
       "      <td>53.29</td>\n",
       "      <td>3</td>\n",
       "      <td>[col_4, col_7, col_6]</td>\n",
       "      <td>new-winequality-white</td>\n",
       "    </tr>\n",
       "    <tr>\n",
       "      <th>new-winequality-white:11</th>\n",
       "      <td>11</td>\n",
       "      <td>46.3</td>\n",
       "      <td>51.25</td>\n",
       "      <td>3</td>\n",
       "      <td>[col_4, col_7, col_6]</td>\n",
       "      <td>new-winequality-white</td>\n",
       "    </tr>\n",
       "    <tr>\n",
       "      <th>new-winequality-white:12</th>\n",
       "      <td>12</td>\n",
       "      <td>47.17</td>\n",
       "      <td>51.78</td>\n",
       "      <td>3</td>\n",
       "      <td>[col_4, col_7, col_6]</td>\n",
       "      <td>new-winequality-white</td>\n",
       "    </tr>\n",
       "    <tr>\n",
       "      <th>new-winequality-white:13</th>\n",
       "      <td>13</td>\n",
       "      <td>47.17</td>\n",
       "      <td>52.36</td>\n",
       "      <td>3</td>\n",
       "      <td>[col_4, col_7, col_6]</td>\n",
       "      <td>new-winequality-white</td>\n",
       "    </tr>\n",
       "    <tr>\n",
       "      <th>new-winequality-white:14</th>\n",
       "      <td>14</td>\n",
       "      <td>47.93</td>\n",
       "      <td>52.01</td>\n",
       "      <td>3</td>\n",
       "      <td>[col_4, col_7, col_6]</td>\n",
       "      <td>new-winequality-white</td>\n",
       "    </tr>\n",
       "    <tr>\n",
       "      <th>new-winequality-white:15</th>\n",
       "      <td>15</td>\n",
       "      <td>47.93</td>\n",
       "      <td>51.2</td>\n",
       "      <td>3</td>\n",
       "      <td>[col_4, col_7, col_6]</td>\n",
       "      <td>new-winequality-white</td>\n",
       "    </tr>\n",
       "    <tr>\n",
       "      <th>new-winequality-white:16</th>\n",
       "      <td>16</td>\n",
       "      <td>47.93</td>\n",
       "      <td>51.02</td>\n",
       "      <td>3</td>\n",
       "      <td>[col_4, col_7, col_6]</td>\n",
       "      <td>new-winequality-white</td>\n",
       "    </tr>\n",
       "    <tr>\n",
       "      <th>new-winequality-white:17</th>\n",
       "      <td>17</td>\n",
       "      <td>47.46</td>\n",
       "      <td>50.96</td>\n",
       "      <td>3</td>\n",
       "      <td>[col_4, col_7, col_6]</td>\n",
       "      <td>new-winequality-white</td>\n",
       "    </tr>\n",
       "    <tr>\n",
       "      <th>new-winequality-white:18</th>\n",
       "      <td>18</td>\n",
       "      <td>48.05</td>\n",
       "      <td>51.02</td>\n",
       "      <td>3</td>\n",
       "      <td>[col_4, col_7, col_6]</td>\n",
       "      <td>new-winequality-white</td>\n",
       "    </tr>\n",
       "    <tr>\n",
       "      <th>new-winequality-white:19</th>\n",
       "      <td>19</td>\n",
       "      <td>47.58</td>\n",
       "      <td>51.55</td>\n",
       "      <td>3</td>\n",
       "      <td>[col_4, col_7, col_6]</td>\n",
       "      <td>new-winequality-white</td>\n",
       "    </tr>\n",
       "    <tr>\n",
       "      <th>new-winequality-white:20</th>\n",
       "      <td>20</td>\n",
       "      <td>47.64</td>\n",
       "      <td>50.67</td>\n",
       "      <td>3</td>\n",
       "      <td>[col_4, col_7, col_6]</td>\n",
       "      <td>new-winequality-white</td>\n",
       "    </tr>\n",
       "  </tbody>\n",
       "</table>\n",
       "</div>"
      ],
      "text/plain": [
       "                         k_value    KNN delKNN del_num               del_attr  \\\n",
       "new-winequality-white:1        1  55.51  59.65       3  [col_4, col_7, col_6]   \n",
       "new-winequality-white:2        2  47.76   55.1       3  [col_4, col_7, col_6]   \n",
       "new-winequality-white:3        3  46.47  53.59       3  [col_4, col_7, col_6]   \n",
       "new-winequality-white:4        4  45.83  54.11       3  [col_4, col_7, col_6]   \n",
       "new-winequality-white:5        5   48.1  52.94       3  [col_4, col_7, col_6]   \n",
       "new-winequality-white:6        6  46.59   52.3       3  [col_4, col_7, col_6]   \n",
       "new-winequality-white:7        7  45.07  51.72       3  [col_4, col_7, col_6]   \n",
       "new-winequality-white:8        8  46.53  53.06       3  [col_4, col_7, col_6]   \n",
       "new-winequality-white:9        9  44.78  52.59       3  [col_4, col_7, col_6]   \n",
       "new-winequality-white:10      10  45.07  53.29       3  [col_4, col_7, col_6]   \n",
       "new-winequality-white:11      11   46.3  51.25       3  [col_4, col_7, col_6]   \n",
       "new-winequality-white:12      12  47.17  51.78       3  [col_4, col_7, col_6]   \n",
       "new-winequality-white:13      13  47.17  52.36       3  [col_4, col_7, col_6]   \n",
       "new-winequality-white:14      14  47.93  52.01       3  [col_4, col_7, col_6]   \n",
       "new-winequality-white:15      15  47.93   51.2       3  [col_4, col_7, col_6]   \n",
       "new-winequality-white:16      16  47.93  51.02       3  [col_4, col_7, col_6]   \n",
       "new-winequality-white:17      17  47.46  50.96       3  [col_4, col_7, col_6]   \n",
       "new-winequality-white:18      18  48.05  51.02       3  [col_4, col_7, col_6]   \n",
       "new-winequality-white:19      19  47.58  51.55       3  [col_4, col_7, col_6]   \n",
       "new-winequality-white:20      20  47.64  50.67       3  [col_4, col_7, col_6]   \n",
       "\n",
       "                                           data  \n",
       "new-winequality-white:1   new-winequality-white  \n",
       "new-winequality-white:2   new-winequality-white  \n",
       "new-winequality-white:3   new-winequality-white  \n",
       "new-winequality-white:4   new-winequality-white  \n",
       "new-winequality-white:5   new-winequality-white  \n",
       "new-winequality-white:6   new-winequality-white  \n",
       "new-winequality-white:7   new-winequality-white  \n",
       "new-winequality-white:8   new-winequality-white  \n",
       "new-winequality-white:9   new-winequality-white  \n",
       "new-winequality-white:10  new-winequality-white  \n",
       "new-winequality-white:11  new-winequality-white  \n",
       "new-winequality-white:12  new-winequality-white  \n",
       "new-winequality-white:13  new-winequality-white  \n",
       "new-winequality-white:14  new-winequality-white  \n",
       "new-winequality-white:15  new-winequality-white  \n",
       "new-winequality-white:16  new-winequality-white  \n",
       "new-winequality-white:17  new-winequality-white  \n",
       "new-winequality-white:18  new-winequality-white  \n",
       "new-winequality-white:19  new-winequality-white  \n",
       "new-winequality-white:20  new-winequality-white  "
      ]
     },
     "execution_count": 174,
     "metadata": {},
     "output_type": "execute_result"
    }
   ],
   "source": [
    "last_result_df"
   ]
  },
  {
   "cell_type": "code",
   "execution_count": 175,
   "metadata": {
    "collapsed": false
   },
   "outputs": [
    {
     "data": {
      "text/plain": [
       "new-winequality-white:1     4.14\n",
       "new-winequality-white:2     7.34\n",
       "new-winequality-white:3     7.12\n",
       "new-winequality-white:4     8.28\n",
       "new-winequality-white:5     4.84\n",
       "new-winequality-white:6     5.71\n",
       "new-winequality-white:7     6.65\n",
       "new-winequality-white:8     6.53\n",
       "new-winequality-white:9     7.81\n",
       "new-winequality-white:10    8.22\n",
       "new-winequality-white:11    4.95\n",
       "new-winequality-white:12    4.61\n",
       "new-winequality-white:13    5.19\n",
       "new-winequality-white:14    4.08\n",
       "new-winequality-white:15    3.27\n",
       "new-winequality-white:16    3.09\n",
       "new-winequality-white:17     3.5\n",
       "new-winequality-white:18    2.97\n",
       "new-winequality-white:19    3.97\n",
       "new-winequality-white:20    3.03\n",
       "dtype: object"
      ]
     },
     "execution_count": 175,
     "metadata": {},
     "output_type": "execute_result"
    }
   ],
   "source": [
    "last_result_df.delKNN - last_result_df.KNN"
   ]
  },
  {
   "cell_type": "code",
   "execution_count": null,
   "metadata": {
    "collapsed": true
   },
   "outputs": [],
   "source": []
  },
  {
   "cell_type": "code",
   "execution_count": null,
   "metadata": {
    "collapsed": true
   },
   "outputs": [],
   "source": []
  }
 ],
 "metadata": {
  "kernelspec": {
   "display_name": "Python 3",
   "language": "python",
   "name": "python3"
  },
  "language_info": {
   "codemirror_mode": {
    "name": "ipython",
    "version": 3
   },
   "file_extension": ".py",
   "mimetype": "text/x-python",
   "name": "python",
   "nbconvert_exporter": "python",
   "pygments_lexer": "ipython3",
   "version": "3.6.2"
  }
 },
 "nbformat": 4,
 "nbformat_minor": 2
}
